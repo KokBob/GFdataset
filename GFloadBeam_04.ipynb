{
  "nbformat": 4,
  "nbformat_minor": 0,
  "metadata": {
    "colab": {
      "name": "GFloadBeam_03.ipynb",
      "provenance": [],
      "collapsed_sections": [
        "TmPA_BNjX1WJ",
        "SWovYi74PDF2"
      ],
      "toc_visible": true,
      "include_colab_link": true
    },
    "kernelspec": {
      "display_name": "Python 3",
      "name": "python3"
    },
    "language_info": {
      "name": "python"
    }
  },
  "cells": [
    {
      "cell_type": "markdown",
      "metadata": {
        "id": "view-in-github",
        "colab_type": "text"
      },
      "source": [
        "<a href=\"https://colab.research.google.com/github/KokBob/GFdataset/blob/main/GFloadBeam_04.ipynb\" target=\"_parent\"><img src=\"https://colab.research.google.com/assets/colab-badge.svg\" alt=\"Open In Colab\"/></a>"
      ]
    },
    {
      "cell_type": "code",
      "metadata": {
        "id": "9qh98vu2s8Ei"
      },
      "source": [
        "#Easiest way to upload large datasets to Google Colab!"
      ],
      "execution_count": null,
      "outputs": []
    },
    {
      "cell_type": "code",
      "metadata": {
        "colab": {
          "base_uri": "https://localhost:8080/"
        },
        "id": "81FhMgloZG75",
        "outputId": "a2937b1f-417a-4d0a-d7df-8723db481b15"
      },
      "source": [
        "!pip3 install dgl"
      ],
      "execution_count": null,
      "outputs": [
        {
          "output_type": "stream",
          "name": "stdout",
          "text": [
            "Collecting dgl\n",
            "  Downloading dgl-0.6.1-cp37-cp37m-manylinux1_x86_64.whl (4.4 MB)\n",
            "\u001b[K     |████████████████████████████████| 4.4 MB 5.3 MB/s \n",
            "\u001b[?25hRequirement already satisfied: numpy>=1.14.0 in /usr/local/lib/python3.7/dist-packages (from dgl) (1.19.5)\n",
            "Requirement already satisfied: requests>=2.19.0 in /usr/local/lib/python3.7/dist-packages (from dgl) (2.23.0)\n",
            "Requirement already satisfied: networkx>=2.1 in /usr/local/lib/python3.7/dist-packages (from dgl) (2.6.3)\n",
            "Requirement already satisfied: scipy>=1.1.0 in /usr/local/lib/python3.7/dist-packages (from dgl) (1.4.1)\n",
            "Requirement already satisfied: chardet<4,>=3.0.2 in /usr/local/lib/python3.7/dist-packages (from requests>=2.19.0->dgl) (3.0.4)\n",
            "Requirement already satisfied: certifi>=2017.4.17 in /usr/local/lib/python3.7/dist-packages (from requests>=2.19.0->dgl) (2021.10.8)\n",
            "Requirement already satisfied: urllib3!=1.25.0,!=1.25.1,<1.26,>=1.21.1 in /usr/local/lib/python3.7/dist-packages (from requests>=2.19.0->dgl) (1.24.3)\n",
            "Requirement already satisfied: idna<3,>=2.5 in /usr/local/lib/python3.7/dist-packages (from requests>=2.19.0->dgl) (2.10)\n",
            "Installing collected packages: dgl\n",
            "Successfully installed dgl-0.6.1\n"
          ]
        }
      ]
    },
    {
      "cell_type": "code",
      "metadata": {
        "colab": {
          "base_uri": "https://localhost:8080/"
        },
        "id": "SVLKN6vEj11a",
        "outputId": "d13aa4b4-6d81-45d9-bbe1-860afb6c1076"
      },
      "source": [
        "from google.colab import drive\n",
        "drive.mount('/content/drive')"
      ],
      "execution_count": null,
      "outputs": [
        {
          "output_type": "stream",
          "name": "stdout",
          "text": [
            "Mounted at /content/drive\n"
          ]
        }
      ]
    },
    {
      "cell_type": "code",
      "metadata": {
        "colab": {
          "base_uri": "https://localhost:8080/"
        },
        "id": "hAarahs7kgtm",
        "outputId": "b361d5c3-fb48-449d-fb93-176fe48015ef"
      },
      "source": [
        "import zipfile\n",
        "!unzip /content/drive/MyDrive/Disertace/beam2D_torch.zip"
      ],
      "execution_count": null,
      "outputs": [
        {
          "output_type": "stream",
          "name": "stdout",
          "text": [
            "Archive:  /content/drive/MyDrive/Disertace/beam2D_torch.zip\n",
            "  inflating: beam2D_torch.bin        \n"
          ]
        }
      ]
    },
    {
      "cell_type": "code",
      "metadata": {
        "colab": {
          "base_uri": "https://localhost:8080/"
        },
        "id": "UGVshNpJyARZ",
        "outputId": "7164d8be-d738-47b6-f20e-57c2456cadd4"
      },
      "source": [
        "!unzip /content/drive/MyDrive/Disertace/beam_pickled_data"
      ],
      "execution_count": null,
      "outputs": [
        {
          "output_type": "stream",
          "name": "stdout",
          "text": [
            "Archive:  /content/drive/MyDrive/Disertace/beam_pickled_data.zip\n",
            "  inflating: beam_pickled_data.pkl   \n"
          ]
        }
      ]
    },
    {
      "cell_type": "code",
      "metadata": {
        "colab": {
          "base_uri": "https://localhost:8080/"
        },
        "id": "5wmj6x9Ik0N_",
        "outputId": "a83a4bfa-00c8-480c-b44a-a97581e254ca"
      },
      "source": [
        "import pickle \n",
        "import dgl\n",
        "import torch as th"
      ],
      "execution_count": null,
      "outputs": [
        {
          "output_type": "stream",
          "name": "stdout",
          "text": [
            "Setting the default backend to \"pytorch\". You can change it in the ~/.dgl/config.json file or export the DGLBACKEND environment variable.  Valid options are: pytorch, mxnet, tensorflow (all lowercase)\n"
          ]
        },
        {
          "output_type": "stream",
          "name": "stderr",
          "text": [
            "DGL backend not selected or invalid.  Assuming PyTorch for now.\n",
            "Using backend: pytorch\n"
          ]
        }
      ]
    },
    {
      "cell_type": "code",
      "metadata": {
        "id": "5JwrFbd9rF-E"
      },
      "source": [
        "G_torch = th.load(r'/content/beam2D_torch.bin',pickle_module=pickle) # \n",
        "#G = pickle.load(r'/content/beam2D_torch.bin')"
      ],
      "execution_count": null,
      "outputs": []
    },
    {
      "cell_type": "code",
      "metadata": {
        "id": "-7NgRbmzsOtO"
      },
      "source": [
        "#print(G_torch.ndata)"
      ],
      "execution_count": null,
      "outputs": []
    },
    {
      "cell_type": "code",
      "metadata": {
        "id": "AeURQhKos7DW"
      },
      "source": [
        "import networkx as nx\n",
        "G_nx = dgl.to_networkx(G_torch)"
      ],
      "execution_count": null,
      "outputs": []
    },
    {
      "cell_type": "code",
      "metadata": {
        "colab": {
          "base_uri": "https://localhost:8080/",
          "height": 319
        },
        "id": "b2y6lETAwGPW",
        "outputId": "6d821297-624b-4609-c846-b1903590ee0b"
      },
      "source": [
        "nx.draw(G_nx)"
      ],
      "execution_count": null,
      "outputs": [
        {
          "output_type": "display_data",
          "data": {
            "image/png": "[encoded data removed]",
            "text/plain": [
              "<Figure size 432x288 with 1 Axes>"
            ]
          },
          "metadata": {}
        }
      ]
    },
    {
      "cell_type": "markdown",
      "metadata": {
        "id": "ikKUNL_o4AHO"
      },
      "source": [
        "rozdeleni na X a y ..\n",
        "X ... nody pro mereni , napriklad primo pod silou a v blizkem okoli\n",
        "y ... ostatni nody \n",
        "... co s vetknutymi nody, tam prece napeti bude, takze je nemuzu mit jako vstupni \n",
        "\n",
        "---\n",
        "\n",
        "\n",
        "k tomu je potreba co, inp file pro beam ... "
      ]
    },
    {
      "cell_type": "markdown",
      "metadata": {
        "id": "_TWkh3wC4X3C"
      },
      "source": [
        ""
      ]
    },
    {
      "cell_type": "code",
      "metadata": {
        "id": "a8beySmwyCGz"
      },
      "source": [
        "Url_inp =r'https://raw.githubusercontent.com/KokBob/GFdataset/main/beam2D.inp'"
      ],
      "execution_count": null,
      "outputs": []
    },
    {
      "cell_type": "code",
      "metadata": {
        "id": "PVjDdrFHymiH"
      },
      "source": [
        "#file1 = open(Url_inp, 'r')\n",
        "#Lines = file1.readlines()"
      ],
      "execution_count": null,
      "outputs": []
    },
    {
      "cell_type": "code",
      "metadata": {
        "id": "lN-96SIUzwYL"
      },
      "source": [
        "import base64\n",
        "import requests\n",
        "\n",
        "master = Url_inp \n",
        "req = requests.get(master)\n",
        "req = req.text\n",
        "#print(req)"
      ],
      "execution_count": null,
      "outputs": []
    },
    {
      "cell_type": "code",
      "metadata": {
        "colab": {
          "base_uri": "https://localhost:8080/"
        },
        "id": "onRkFHdF1XpN",
        "outputId": "d5b99b36-6358-47f4-d95a-0079b2f250f4"
      },
      "source": [
        "# Download Example file\n",
        "\n",
        "!wget https://raw.githubusercontent.com/KokBob/GFdataset/main/beam2D.inp"
      ],
      "execution_count": null,
      "outputs": [
        {
          "output_type": "stream",
          "name": "stdout",
          "text": [
            "--2021-10-17 18:00:50--  https://raw.githubusercontent.com/KokBob/GFdataset/main/beam2D.inp\n",
            "Resolving raw.githubusercontent.com (raw.githubusercontent.com)... 185.199.108.133, 185.199.109.133, 185.199.110.133, ...\n",
            "Connecting to raw.githubusercontent.com (raw.githubusercontent.com)|185.199.108.133|:443... connected.\n",
            "HTTP request sent, awaiting response... 200 OK\n",
            "Length: 3039 (3.0K) [text/plain]\n",
            "Saving to: ‘beam2D.inp’\n",
            "\n",
            "\rbeam2D.inp            0%[                    ]       0  --.-KB/s               \rbeam2D.inp          100%[===================>]   2.97K  --.-KB/s    in 0s      \n",
            "\n",
            "2021-10-17 18:00:50 (44.5 MB/s) - ‘beam2D.inp’ saved [3039/3039]\n",
            "\n"
          ]
        }
      ]
    },
    {
      "cell_type": "code",
      "metadata": {
        "id": "ykhqgM_J199P"
      },
      "source": [
        "example1 = \"/content/beam2D.inp\"\n",
        "file1 = open(example1, \"r\")\n",
        "Lines = file1.readlines()"
      ],
      "execution_count": null,
      "outputs": []
    },
    {
      "cell_type": "code",
      "metadata": {
        "colab": {
          "base_uri": "https://localhost:8080/"
        },
        "id": "G7CROLBk2IkD",
        "outputId": "da54bff6-dd0f-4dc9-f92f-8eeda3678616"
      },
      "source": [
        "print(Lines[30])"
      ],
      "execution_count": null,
      "outputs": [
        {
          "output_type": "stream",
          "name": "stdout",
          "text": [
            "     22,          55.,           5.\n",
            "\n"
          ]
        }
      ]
    },
    {
      "cell_type": "code",
      "metadata": {
        "colab": {
          "base_uri": "https://localhost:8080/"
        },
        "id": "HaLXvltgD1EF",
        "outputId": "6beb1fe3-1e61-49b7-f25a-10814ec3f752"
      },
      "source": [
        "!pip3 install pickle5\n",
        "import pickle5 as pickle"
      ],
      "execution_count": null,
      "outputs": [
        {
          "output_type": "stream",
          "name": "stdout",
          "text": [
            "Collecting pickle5\n",
            "  Downloading pickle5-0.0.11.tar.gz (132 kB)\n",
            "\u001b[?25l\r\u001b[K     |██▌                             | 10 kB 25.1 MB/s eta 0:00:01\r\u001b[K     |█████                           | 20 kB 27.4 MB/s eta 0:00:01\r\u001b[K     |███████▍                        | 30 kB 13.5 MB/s eta 0:00:01\r\u001b[K     |██████████                      | 40 kB 10.8 MB/s eta 0:00:01\r\u001b[K     |████████████▍                   | 51 kB 5.6 MB/s eta 0:00:01\r\u001b[K     |██████████████▉                 | 61 kB 5.6 MB/s eta 0:00:01\r\u001b[K     |█████████████████▍              | 71 kB 5.7 MB/s eta 0:00:01\r\u001b[K     |███████████████████▉            | 81 kB 6.4 MB/s eta 0:00:01\r\u001b[K     |██████████████████████▎         | 92 kB 5.0 MB/s eta 0:00:01\r\u001b[K     |████████████████████████▉       | 102 kB 5.2 MB/s eta 0:00:01\r\u001b[K     |███████████████████████████▎    | 112 kB 5.2 MB/s eta 0:00:01\r\u001b[K     |█████████████████████████████▊  | 122 kB 5.2 MB/s eta 0:00:01\r\u001b[K     |████████████████████████████████| 132 kB 5.2 MB/s \n",
            "\u001b[?25hBuilding wheels for collected packages: pickle5\n",
            "  Building wheel for pickle5 (setup.py) ... \u001b[?25l\u001b[?25hdone\n",
            "  Created wheel for pickle5: filename=pickle5-0.0.11-cp37-cp37m-linux_x86_64.whl size=219307 sha256=8539a20e22cd3171b9d5af2522803d44b6a2d4c24c5efb0423aaa0f594241c08\n",
            "  Stored in directory: /root/.cache/pip/wheels/7e/6a/00/67136a90d6aca437d806d1d3cedf98106e840c97a3e5188198\n",
            "Successfully built pickle5\n",
            "Installing collected packages: pickle5\n",
            "Successfully installed pickle5-0.0.11\n"
          ]
        }
      ]
    },
    {
      "cell_type": "code",
      "metadata": {
        "id": "lrHnHnigQEm2"
      },
      "source": [
        "\n",
        "D_path = \"/content/beam_pickled_data.pkl\"\n",
        "with open(D_path, \"rb\") as input_file:\n",
        "       e = pickle.load(input_file)"
      ],
      "execution_count": null,
      "outputs": []
    },
    {
      "cell_type": "code",
      "metadata": {
        "id": "pl9RwEbIXsda"
      },
      "source": [
        ""
      ],
      "execution_count": null,
      "outputs": []
    },
    {
      "cell_type": "markdown",
      "metadata": {
        "id": "yOMgAmvCX0em"
      },
      "source": [
        "# priprava datasetu"
      ]
    },
    {
      "cell_type": "code",
      "metadata": {
        "colab": {
          "base_uri": "https://localhost:8080/"
        },
        "id": "s1H90C6lYJow",
        "outputId": "d6fd0649-0321-4b4a-e48a-f496d1942a0b"
      },
      "source": [
        "e.keys()"
      ],
      "execution_count": null,
      "outputs": [
        {
          "output_type": "execute_result",
          "data": {
            "text/plain": [
              "dict_keys(['framebeam_0', 'framebeam_1', 'framebeam_10', 'framebeam_100', 'framebeam_101', 'framebeam_102', 'framebeam_11', 'framebeam_12', 'framebeam_13', 'framebeam_14', 'framebeam_15', 'framebeam_16', 'framebeam_17', 'framebeam_18', 'framebeam_19', 'framebeam_2', 'framebeam_20', 'framebeam_21', 'framebeam_22', 'framebeam_23', 'framebeam_24', 'framebeam_25', 'framebeam_26', 'framebeam_27', 'framebeam_28', 'framebeam_29', 'framebeam_3', 'framebeam_30', 'framebeam_31', 'framebeam_32', 'framebeam_33', 'framebeam_34', 'framebeam_35', 'framebeam_36', 'framebeam_37', 'framebeam_38', 'framebeam_39', 'framebeam_4', 'framebeam_40', 'framebeam_41', 'framebeam_42', 'framebeam_43', 'framebeam_44', 'framebeam_45', 'framebeam_46', 'framebeam_47', 'framebeam_48', 'framebeam_49', 'framebeam_5', 'framebeam_50', 'framebeam_51', 'framebeam_52', 'framebeam_53', 'framebeam_54', 'framebeam_55', 'framebeam_56', 'framebeam_57', 'framebeam_58', 'framebeam_59', 'framebeam_6', 'framebeam_60', 'framebeam_61', 'framebeam_62', 'framebeam_63', 'framebeam_64', 'framebeam_65', 'framebeam_66', 'framebeam_67', 'framebeam_68', 'framebeam_69', 'framebeam_7', 'framebeam_70', 'framebeam_71', 'framebeam_72', 'framebeam_73', 'framebeam_74', 'framebeam_75', 'framebeam_76', 'framebeam_77', 'framebeam_78', 'framebeam_79', 'framebeam_8', 'framebeam_80', 'framebeam_81', 'framebeam_82', 'framebeam_83', 'framebeam_84', 'framebeam_85', 'framebeam_86', 'framebeam_87', 'framebeam_88', 'framebeam_89', 'framebeam_9', 'framebeam_90', 'framebeam_91', 'framebeam_92', 'framebeam_93', 'framebeam_94', 'framebeam_95', 'framebeam_96', 'framebeam_97', 'framebeam_98', 'framebeam_99'])"
            ]
          },
          "metadata": {},
          "execution_count": 19
        }
      ]
    },
    {
      "cell_type": "code",
      "metadata": {
        "id": "EliNADvtY9VZ"
      },
      "source": [
        ""
      ],
      "execution_count": null,
      "outputs": []
    },
    {
      "cell_type": "markdown",
      "metadata": {
        "id": "Ahnyg4w9ZCf-"
      },
      "source": [
        "## X prep\n",
        "Co je vstupem ... data ze senzoru\n",
        "Set v inp se nejak jmenuje"
      ]
    },
    {
      "cell_type": "code",
      "source": [
        ""
      ],
      "metadata": {
        "id": "6Lqc-OhyObse"
      },
      "execution_count": null,
      "outputs": []
    },
    {
      "cell_type": "markdown",
      "metadata": {
        "id": "mW63eLeqZTTI"
      },
      "source": [
        "## y prep \n",
        "Woo ostatni nody mimo X\n",
        "$y$"
      ]
    },
    {
      "cell_type": "code",
      "metadata": {
        "id": "YCDd476kZNCH"
      },
      "source": [
        ""
      ],
      "execution_count": null,
      "outputs": []
    },
    {
      "cell_type": "markdown",
      "metadata": {
        "id": "TmPA_BNjX1WJ"
      },
      "source": [
        "# vizualizace pres vtk"
      ]
    },
    {
      "cell_type": "code",
      "metadata": {
        "colab": {
          "base_uri": "https://localhost:8080/"
        },
        "id": "E8tODBRyYISp",
        "outputId": "37dbe55f-b9b4-46b8-d3cf-abf6ed3ce2d8"
      },
      "source": [
        "!pip3 install vtk"
      ],
      "execution_count": null,
      "outputs": [
        {
          "output_type": "stream",
          "name": "stdout",
          "text": [
            "Collecting vtk\n",
            "  Downloading vtk-9.0.3-cp37-cp37m-manylinux_2_17_x86_64.manylinux2014_x86_64.whl (59.5 MB)\n",
            "\u001b[K     |████████████████████████████████| 59.5 MB 23 kB/s \n",
            "\u001b[?25hCollecting wslink>=0.1.3\n",
            "  Downloading wslink-1.1.0-py3-none-any.whl (20 kB)\n",
            "Requirement already satisfied: matplotlib>=2.0.0 in /usr/local/lib/python3.7/dist-packages (from vtk) (3.2.2)\n",
            "Collecting Twisted>=17.5.0\n",
            "  Downloading Twisted-21.7.0-py3-none-any.whl (3.1 MB)\n",
            "\u001b[K     |████████████████████████████████| 3.1 MB 46.3 MB/s \n",
            "\u001b[?25hCollecting autobahn>=17.7.1\n",
            "  Downloading autobahn-21.3.1-py2.py3-none-any.whl (495 kB)\n",
            "\u001b[K     |████████████████████████████████| 495 kB 35.7 MB/s \n",
            "\u001b[?25hCollecting hyperlink>=21.0.0\n",
            "  Downloading hyperlink-21.0.0-py2.py3-none-any.whl (74 kB)\n",
            "\u001b[K     |████████████████████████████████| 74 kB 3.1 MB/s \n",
            "\u001b[?25hCollecting txaio>=21.2.1\n",
            "  Downloading txaio-21.2.1-py2.py3-none-any.whl (30 kB)\n",
            "Collecting cryptography>=3.4.6\n",
            "  Downloading cryptography-35.0.0-cp36-abi3-manylinux_2_24_x86_64.whl (3.5 MB)\n",
            "\u001b[K     |████████████████████████████████| 3.5 MB 61.0 MB/s \n",
            "\u001b[?25hRequirement already satisfied: cffi>=1.12 in /usr/local/lib/python3.7/dist-packages (from cryptography>=3.4.6->autobahn>=17.7.1->vtk) (1.14.6)\n",
            "Requirement already satisfied: pycparser in /usr/local/lib/python3.7/dist-packages (from cffi>=1.12->cryptography>=3.4.6->autobahn>=17.7.1->vtk) (2.20)\n",
            "Requirement already satisfied: idna>=2.5 in /usr/local/lib/python3.7/dist-packages (from hyperlink>=21.0.0->autobahn>=17.7.1->vtk) (2.10)\n",
            "Requirement already satisfied: kiwisolver>=1.0.1 in /usr/local/lib/python3.7/dist-packages (from matplotlib>=2.0.0->vtk) (1.3.2)\n",
            "Requirement already satisfied: python-dateutil>=2.1 in /usr/local/lib/python3.7/dist-packages (from matplotlib>=2.0.0->vtk) (2.8.2)\n",
            "Requirement already satisfied: numpy>=1.11 in /usr/local/lib/python3.7/dist-packages (from matplotlib>=2.0.0->vtk) (1.19.5)\n",
            "Requirement already satisfied: cycler>=0.10 in /usr/local/lib/python3.7/dist-packages (from matplotlib>=2.0.0->vtk) (0.10.0)\n",
            "Requirement already satisfied: pyparsing!=2.0.4,!=2.1.2,!=2.1.6,>=2.0.1 in /usr/local/lib/python3.7/dist-packages (from matplotlib>=2.0.0->vtk) (2.4.7)\n",
            "Requirement already satisfied: six in /usr/local/lib/python3.7/dist-packages (from cycler>=0.10->matplotlib>=2.0.0->vtk) (1.15.0)\n",
            "Requirement already satisfied: typing-extensions>=3.6.5 in /usr/local/lib/python3.7/dist-packages (from Twisted>=17.5.0->vtk) (3.7.4.3)\n",
            "Collecting incremental>=21.3.0\n",
            "  Downloading incremental-21.3.0-py2.py3-none-any.whl (15 kB)\n",
            "Collecting constantly>=15.1\n",
            "  Downloading constantly-15.1.0-py2.py3-none-any.whl (7.9 kB)\n",
            "Collecting Automat>=0.8.0\n",
            "  Downloading Automat-20.2.0-py2.py3-none-any.whl (31 kB)\n",
            "Collecting zope.interface>=4.4.2\n",
            "  Downloading zope.interface-5.4.0-cp37-cp37m-manylinux2010_x86_64.whl (251 kB)\n",
            "\u001b[K     |████████████████████████████████| 251 kB 72.7 MB/s \n",
            "\u001b[?25hRequirement already satisfied: attrs>=19.2.0 in /usr/local/lib/python3.7/dist-packages (from Twisted>=17.5.0->vtk) (21.2.0)\n",
            "Collecting aiohttp\n",
            "  Downloading aiohttp-3.7.4.post0-cp37-cp37m-manylinux2014_x86_64.whl (1.3 MB)\n",
            "\u001b[K     |████████████████████████████████| 1.3 MB 37.5 MB/s \n",
            "\u001b[?25hRequirement already satisfied: setuptools in /usr/local/lib/python3.7/dist-packages (from zope.interface>=4.4.2->Twisted>=17.5.0->vtk) (57.4.0)\n",
            "Requirement already satisfied: chardet<5.0,>=2.0 in /usr/local/lib/python3.7/dist-packages (from aiohttp->wslink>=0.1.3->vtk) (3.0.4)\n",
            "Collecting multidict<7.0,>=4.5\n",
            "  Downloading multidict-5.2.0-cp37-cp37m-manylinux_2_5_x86_64.manylinux1_x86_64.manylinux_2_12_x86_64.manylinux2010_x86_64.whl (160 kB)\n",
            "\u001b[K     |████████████████████████████████| 160 kB 58.0 MB/s \n",
            "\u001b[?25hCollecting yarl<2.0,>=1.0\n",
            "  Downloading yarl-1.7.0-cp37-cp37m-manylinux_2_5_x86_64.manylinux1_x86_64.manylinux_2_12_x86_64.manylinux2010_x86_64.whl (271 kB)\n",
            "\u001b[K     |████████████████████████████████| 271 kB 48.6 MB/s \n",
            "\u001b[?25hCollecting async-timeout<4.0,>=3.0\n",
            "  Downloading async_timeout-3.0.1-py3-none-any.whl (8.2 kB)\n",
            "Installing collected packages: multidict, yarl, async-timeout, zope.interface, txaio, incremental, hyperlink, cryptography, constantly, Automat, aiohttp, wslink, Twisted, autobahn, vtk\n",
            "Successfully installed Automat-20.2.0 Twisted-21.7.0 aiohttp-3.7.4.post0 async-timeout-3.0.1 autobahn-21.3.1 constantly-15.1.0 cryptography-35.0.0 hyperlink-21.0.0 incremental-21.3.0 multidict-5.2.0 txaio-21.2.1 vtk-9.0.3 wslink-1.1.0 yarl-1.7.0 zope.interface-5.4.0\n"
          ]
        }
      ]
    },
    {
      "cell_type": "code",
      "metadata": {
        "id": "CBdn728kY5t6"
      },
      "source": [
        ""
      ],
      "execution_count": null,
      "outputs": []
    },
    {
      "cell_type": "markdown",
      "metadata": {
        "id": "A959JmQPYeTq"
      },
      "source": [
        "# test pymapdl"
      ]
    },
    {
      "cell_type": "code",
      "metadata": {
        "id": "5qXPiW9eYkcQ"
      },
      "source": [
        "#!pip3 install pymapdl"
      ],
      "execution_count": null,
      "outputs": []
    },
    {
      "cell_type": "markdown",
      "source": [
        "# Load Graph pres torch\n",
        "z githubu \n",
        "torch format\n",
        "https://towardsdatascience.com/7-ways-to-load-external-data-into-google-colab-7ba73e7d5fc7\n"
      ],
      "metadata": {
        "id": "qGP_DIRCPEq4"
      }
    },
    {
      "cell_type": "code",
      "source": [
        "!wget https://github.com/KokBob/GFdataset/upload/main/beam2D.bin\n",
        "!wget https://github.com/KokBob/GFdataset/upload/main/beam2D.g"
      ],
      "metadata": {
        "colab": {
          "base_uri": "https://localhost:8080/"
        },
        "id": "mCmUsJZxPsf3",
        "outputId": "1e8eedb6-0f75-4166-ad3b-bf554da87cef"
      },
      "execution_count": null,
      "outputs": [
        {
          "output_type": "stream",
          "name": "stdout",
          "text": [
            "--2022-01-10 18:31:58--  https://github.com/KokBob/GFdataset/upload/main/beam2D.g\n",
            "Resolving github.com (github.com)... 140.82.112.4\n",
            "Connecting to github.com (github.com)|140.82.112.4|:443... connected.\n",
            "HTTP request sent, awaiting response... 200 OK\n",
            "Length: unspecified [text/html]\n",
            "Saving to: ‘beam2D.g’\n",
            "\n",
            "beam2D.g                [ <=>                ] 119.50K  --.-KB/s    in 0.08s   \n",
            "\n",
            "2022-01-10 18:31:58 (1.52 MB/s) - ‘beam2D.g’ saved [122365]\n",
            "\n"
          ]
        }
      ]
    },
    {
      "cell_type": "markdown",
      "source": [
        ""
      ],
      "metadata": {
        "id": "AtOQCBhBQ8ep"
      }
    },
    {
      "cell_type": "code",
      "source": [
        "import torch as th\n",
        "#G_torch = th.load(\"./beam2D.g\")"
      ],
      "metadata": {
        "id": "CLrXQiHoQgi4"
      },
      "execution_count": null,
      "outputs": []
    },
    {
      "cell_type": "code",
      "source": [
        ""
      ],
      "metadata": {
        "id": "AzcZaWxFRoMn"
      },
      "execution_count": null,
      "outputs": []
    },
    {
      "cell_type": "markdown",
      "source": [
        "# Cteni grafu pres DGL\n",
        "dgl-ko tady dobre nefunguje \n"
      ],
      "metadata": {
        "id": "SWovYi74PDF2"
      }
    },
    {
      "cell_type": "code",
      "source": [
        "from dgl.data.utils import save_graphs\n",
        "import torch as th\n",
        "from dgl.data.utils import load_graphs\n"
      ],
      "metadata": {
        "id": "tX4uR496RA5p"
      },
      "execution_count": null,
      "outputs": []
    },
    {
      "cell_type": "code",
      "source": [
        "#G = load_graphs(\"./beam2D.bin\", [0]) # tohle tady nejak nefunguje"
      ],
      "metadata": {
        "colab": {
          "base_uri": "https://localhost:8080/",
          "height": 617
        },
        "id": "jb8hWWb0Ru94",
        "outputId": "3d244fc5-f621-45b0-a32a-be3749f444db"
      },
      "execution_count": null,
      "outputs": [
        {
          "output_type": "error",
          "ename": "DGLError",
          "evalue": "ignored",
          "traceback": [
            "\u001b[0;31m---------------------------------------------------------------------------\u001b[0m",
            "\u001b[0;31mDGLError\u001b[0m                                  Traceback (most recent call last)",
            "\u001b[0;32m<ipython-input-10-fc7c9d70fe62>\u001b[0m in \u001b[0;36m<module>\u001b[0;34m()\u001b[0m\n\u001b[0;32m----> 1\u001b[0;31m \u001b[0mG\u001b[0m \u001b[0;34m=\u001b[0m \u001b[0mload_graphs\u001b[0m\u001b[0;34m(\u001b[0m\u001b[0;34m\"./beam2D.bin\"\u001b[0m\u001b[0;34m,\u001b[0m \u001b[0;34m[\u001b[0m\u001b[0;36m0\u001b[0m\u001b[0;34m]\u001b[0m\u001b[0;34m)\u001b[0m \u001b[0;31m#\u001b[0m\u001b[0;34m\u001b[0m\u001b[0;34m\u001b[0m\u001b[0m\n\u001b[0m",
            "\u001b[0;32m/usr/local/lib/python3.7/dist-packages/dgl/data/graph_serialize.py\u001b[0m in \u001b[0;36mload_graphs\u001b[0;34m(filename, idx_list)\u001b[0m\n\u001b[1;32m    173\u001b[0m     \u001b[0;31m# if it is local file, do some sanity check\u001b[0m\u001b[0;34m\u001b[0m\u001b[0;34m\u001b[0m\u001b[0;34m\u001b[0m\u001b[0m\n\u001b[1;32m    174\u001b[0m     \u001b[0mcheck_local_file_exists\u001b[0m\u001b[0;34m(\u001b[0m\u001b[0mfilename\u001b[0m\u001b[0;34m)\u001b[0m\u001b[0;34m\u001b[0m\u001b[0;34m\u001b[0m\u001b[0m\n\u001b[0;32m--> 175\u001b[0;31m     \u001b[0mversion\u001b[0m \u001b[0;34m=\u001b[0m \u001b[0m_CAPI_GetFileVersion\u001b[0m\u001b[0;34m(\u001b[0m\u001b[0mfilename\u001b[0m\u001b[0;34m)\u001b[0m\u001b[0;34m\u001b[0m\u001b[0;34m\u001b[0m\u001b[0m\n\u001b[0m\u001b[1;32m    176\u001b[0m     \u001b[0;32mif\u001b[0m \u001b[0mversion\u001b[0m \u001b[0;34m==\u001b[0m \u001b[0;36m1\u001b[0m\u001b[0;34m:\u001b[0m\u001b[0;34m\u001b[0m\u001b[0;34m\u001b[0m\u001b[0m\n\u001b[1;32m    177\u001b[0m         dgl_warning(\n",
            "\u001b[0;32mdgl/_ffi/_cython/./function.pxi\u001b[0m in \u001b[0;36mdgl._ffi._cy3.core.FunctionBase.__call__\u001b[0;34m()\u001b[0m\n",
            "\u001b[0;32mdgl/_ffi/_cython/./function.pxi\u001b[0m in \u001b[0;36mdgl._ffi._cy3.core.FuncCall\u001b[0;34m()\u001b[0m\n",
            "\u001b[0;32mdgl/_ffi/_cython/./function.pxi\u001b[0m in \u001b[0;36mdgl._ffi._cy3.core.FuncCall3\u001b[0;34m()\u001b[0m\n",
            "\u001b[0;32mdgl/_ffi/_cython/./base.pxi\u001b[0m in \u001b[0;36mdgl._ffi._cy3.core.CALL\u001b[0;34m()\u001b[0m\n",
            "\u001b[0;31mDGLError\u001b[0m: [18:36:26] /opt/dgl/src/graph/serialize/graph_serialize.cc:128: Check failed: magicNum == kDGLSerializeMagic (2394800140088642058 vs. 15937764024707752255) : Invalid DGL files\nStack trace:\n  [bt] (0) /usr/local/lib/python3.7/dist-packages/dgl/libdgl.so(dmlc::LogMessageFatal::~LogMessageFatal()+0x4f) [0x7f8bddf3403f]\n  [bt] (1) /usr/local/lib/python3.7/dist-packages/dgl/libdgl.so(dgl::serialize::GetFileVersion(std::string const&)+0x108) [0x7f8bde709b88]\n  [bt] (2) /usr/local/lib/python3.7/dist-packages/dgl/libdgl.so(+0x9edcf3) [0x7f8bde709cf3]\n  [bt] (3) /usr/local/lib/python3.7/dist-packages/dgl/libdgl.so(DGLFuncCall+0x48) [0x7f8bde627d48]\n  [bt] (4) /usr/local/lib/python3.7/dist-packages/dgl/_ffi/_cy3/core.cpython-37m-x86_64-linux-gnu.so(+0x16623) [0x7f8bdd381623]\n  [bt] (5) /usr/local/lib/python3.7/dist-packages/dgl/_ffi/_cy3/core.cpython-37m-x86_64-linux-gnu.so(+0x1694b) [0x7f8bdd38194b]\n  [bt] (6) /usr/bin/python3(_PyObject_FastCallKeywords+0x92) [0x565055833c52]\n  [bt] (7) /usr/bin/python3(_PyEval_EvalFrameDefault+0x4745) [0x5650558a6c25]\n  [bt] (8) /usr/bin/python3(_PyEval_EvalCodeWithName+0x2ee) [0x5650558a19ee]\n\n"
          ]
        }
      ]
    }
  ]
}