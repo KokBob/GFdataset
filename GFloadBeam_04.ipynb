{
  "nbformat": 4,
  "nbformat_minor": 0,
  "metadata": {
    "colab": {
      "name": "GFloadBeam_03.ipynb",
      "provenance": [],
      "collapsed_sections": [
        "TmPA_BNjX1WJ",
        "SWovYi74PDF2"
      ],
      "toc_visible": true,
      "include_colab_link": true
    },
    "kernelspec": {
      "display_name": "Python 3",
      "name": "python3"
    },
    "language_info": {
      "name": "python"
    }
  },
  "cells": [
    {
      "cell_type": "markdown",
      "metadata": {
        "id": "view-in-github",
        "colab_type": "text"
      },
      "source": [
        "<a href=\"https://colab.research.google.com/github/KokBob/GFdataset/blob/main/GFloadBeam_04.ipynb\" target=\"_parent\"><img src=\"https://colab.research.google.com/assets/colab-badge.svg\" alt=\"Open In Colab\"/></a>"
      ]
    },
    {
      "cell_type": "code",
      "metadata": {
        "id": "9qh98vu2s8Ei"
      },
      "source": [
        "#Easiest way to upload large datasets to Google Colab!"
      ],
      "execution_count": 1,
      "outputs": []
    },
    {
      "cell_type": "code",
      "metadata": {
        "colab": {
          "base_uri": "https://localhost:8080/"
        },
        "id": "81FhMgloZG75",
        "outputId": "d705e9d3-6084-4c1b-e3d7-e4ef00f4c08c"
      },
      "source": [
        "!pip3 install dgl"
      ],
      "execution_count": 2,
      "outputs": [
        {
          "output_type": "stream",
          "name": "stdout",
          "text": [
            "Collecting dgl\n",
            "  Downloading dgl-0.6.1-cp37-cp37m-manylinux1_x86_64.whl (4.4 MB)\n",
            "\u001b[K     |████████████████████████████████| 4.4 MB 4.4 MB/s \n",
            "\u001b[?25hRequirement already satisfied: numpy>=1.14.0 in /usr/local/lib/python3.7/dist-packages (from dgl) (1.19.5)\n",
            "Requirement already satisfied: scipy>=1.1.0 in /usr/local/lib/python3.7/dist-packages (from dgl) (1.4.1)\n",
            "Requirement already satisfied: requests>=2.19.0 in /usr/local/lib/python3.7/dist-packages (from dgl) (2.23.0)\n",
            "Requirement already satisfied: networkx>=2.1 in /usr/local/lib/python3.7/dist-packages (from dgl) (2.6.3)\n",
            "Requirement already satisfied: chardet<4,>=3.0.2 in /usr/local/lib/python3.7/dist-packages (from requests>=2.19.0->dgl) (3.0.4)\n",
            "Requirement already satisfied: idna<3,>=2.5 in /usr/local/lib/python3.7/dist-packages (from requests>=2.19.0->dgl) (2.10)\n",
            "Requirement already satisfied: certifi>=2017.4.17 in /usr/local/lib/python3.7/dist-packages (from requests>=2.19.0->dgl) (2021.10.8)\n",
            "Requirement already satisfied: urllib3!=1.25.0,!=1.25.1,<1.26,>=1.21.1 in /usr/local/lib/python3.7/dist-packages (from requests>=2.19.0->dgl) (1.24.3)\n",
            "Installing collected packages: dgl\n",
            "Successfully installed dgl-0.6.1\n"
          ]
        }
      ]
    },
    {
      "cell_type": "code",
      "metadata": {
        "colab": {
          "base_uri": "https://localhost:8080/"
        },
        "id": "SVLKN6vEj11a",
        "outputId": "1ba00f23-5042-4651-96fc-d8a7a7f8c6ec"
      },
      "source": [
        "from google.colab import drive\n",
        "drive.mount('/content/drive')"
      ],
      "execution_count": 3,
      "outputs": [
        {
          "output_type": "stream",
          "name": "stdout",
          "text": [
            "Mounted at /content/drive\n"
          ]
        }
      ]
    },
    {
      "cell_type": "code",
      "metadata": {
        "colab": {
          "base_uri": "https://localhost:8080/"
        },
        "id": "hAarahs7kgtm",
        "outputId": "4696e5f5-2e76-4972-c64e-7a5ad6e45dce"
      },
      "source": [
        "import zipfile\n",
        "!unzip /content/drive/MyDrive/Disertace/beam2D_torch.zip"
      ],
      "execution_count": 4,
      "outputs": [
        {
          "output_type": "stream",
          "name": "stdout",
          "text": [
            "Archive:  /content/drive/MyDrive/Disertace/beam2D_torch.zip\n",
            "  inflating: beam2D_torch.bin        \n"
          ]
        }
      ]
    },
    {
      "cell_type": "code",
      "metadata": {
        "colab": {
          "base_uri": "https://localhost:8080/"
        },
        "id": "UGVshNpJyARZ",
        "outputId": "42346d7c-f31c-4b03-e0f3-9e8e8d42e510"
      },
      "source": [
        "!unzip /content/drive/MyDrive/Disertace/beam_pickled_data"
      ],
      "execution_count": 5,
      "outputs": [
        {
          "output_type": "stream",
          "name": "stdout",
          "text": [
            "Archive:  /content/drive/MyDrive/Disertace/beam_pickled_data.zip\n",
            "  inflating: beam_pickled_data.pkl   \n"
          ]
        }
      ]
    },
    {
      "cell_type": "code",
      "metadata": {
        "colab": {
          "base_uri": "https://localhost:8080/"
        },
        "id": "5wmj6x9Ik0N_",
        "outputId": "c9b9dcb5-ab83-487f-dfa1-95e9d9c780a5"
      },
      "source": [
        "import pickle \n",
        "import dgl\n",
        "import torch as th"
      ],
      "execution_count": 6,
      "outputs": [
        {
          "output_type": "stream",
          "name": "stdout",
          "text": [
            "Setting the default backend to \"pytorch\". You can change it in the ~/.dgl/config.json file or export the DGLBACKEND environment variable.  Valid options are: pytorch, mxnet, tensorflow (all lowercase)\n"
          ]
        },
        {
          "output_type": "stream",
          "name": "stderr",
          "text": [
            "DGL backend not selected or invalid.  Assuming PyTorch for now.\n",
            "Using backend: pytorch\n"
          ]
        }
      ]
    },
    {
      "cell_type": "code",
      "metadata": {
        "id": "5JwrFbd9rF-E"
      },
      "source": [
        "G_torch = th.load(r'/content/beam2D_torch.bin',pickle_module=pickle) # \n",
        "#G = pickle.load(r'/content/beam2D_torch.bin')"
      ],
      "execution_count": 7,
      "outputs": []
    },
    {
      "cell_type": "code",
      "metadata": {
        "id": "-7NgRbmzsOtO"
      },
      "source": [
        "#print(G_torch.ndata)"
      ],
      "execution_count": 8,
      "outputs": []
    },
    {
      "cell_type": "code",
      "metadata": {
        "id": "AeURQhKos7DW"
      },
      "source": [
        "import networkx as nx\n",
        "G_nx = dgl.to_networkx(G_torch)"
      ],
      "execution_count": 9,
      "outputs": []
    },
    {
      "cell_type": "code",
      "metadata": {
        "colab": {
          "base_uri": "https://localhost:8080/",
          "height": 319
        },
        "id": "b2y6lETAwGPW",
        "outputId": "7b9a5144-794b-4617-e673-54e462c1c31c"
      },
      "source": [
        "nx.draw(G_nx)"
      ],
      "execution_count": 10,
      "outputs": [
        {
          "output_type": "display_data",
          "data": {
            "image/png": "[encoded data removed]",
            "text/plain": [
              "<Figure size 432x288 with 1 Axes>"
            ]
          },
          "metadata": {}
        }
      ]
    },
    {
      "cell_type": "markdown",
      "metadata": {
        "id": "ikKUNL_o4AHO"
      },
      "source": [
        "rozdeleni na X a y ..\n",
        "X ... nody pro mereni , napriklad primo pod silou a v blizkem okoli\n",
        "y ... ostatni nody \n",
        "... co s vetknutymi nody, tam prece napeti bude, takze je nemuzu mit jako vstupni \n",
        "\n",
        "---\n",
        "\n",
        "\n",
        "k tomu je potreba co, inp file pro beam ... "
      ]
    },
    {
      "cell_type": "markdown",
      "metadata": {
        "id": "_TWkh3wC4X3C"
      },
      "source": [
        ""
      ]
    },
    {
      "cell_type": "code",
      "metadata": {
        "id": "a8beySmwyCGz"
      },
      "source": [
        "Url_inp =r'https://raw.githubusercontent.com/KokBob/GFdataset/main/beam2D.inp'"
      ],
      "execution_count": 11,
      "outputs": []
    },
    {
      "cell_type": "code",
      "metadata": {
        "id": "PVjDdrFHymiH"
      },
      "source": [
        "#file1 = open(Url_inp, 'r')\n",
        "#Lines = file1.readlines()"
      ],
      "execution_count": 12,
      "outputs": []
    },
    {
      "cell_type": "code",
      "metadata": {
        "id": "lN-96SIUzwYL"
      },
      "source": [
        "import base64\n",
        "import requests\n",
        "\n",
        "master = Url_inp \n",
        "req = requests.get(master)\n",
        "req = req.text\n",
        "#print(req)"
      ],
      "execution_count": 13,
      "outputs": []
    },
    {
      "cell_type": "code",
      "metadata": {
        "colab": {
          "base_uri": "https://localhost:8080/"
        },
        "id": "onRkFHdF1XpN",
        "outputId": "95ad3899-c97f-4057-9a04-cc7faf599183"
      },
      "source": [
        "# Download Example file\n",
        "\n",
        "!wget https://raw.githubusercontent.com/KokBob/GFdataset/main/beam2D.inp"
      ],
      "execution_count": 14,
      "outputs": [
        {
          "output_type": "stream",
          "name": "stdout",
          "text": [
            "--2022-01-17 06:47:47--  https://raw.githubusercontent.com/KokBob/GFdataset/main/beam2D.inp\n",
            "Resolving raw.githubusercontent.com (raw.githubusercontent.com)... 185.199.110.133, 185.199.108.133, 185.199.111.133, ...\n",
            "Connecting to raw.githubusercontent.com (raw.githubusercontent.com)|185.199.110.133|:443... connected.\n",
            "HTTP request sent, awaiting response... 200 OK\n",
            "Length: 3039 (3.0K) [text/plain]\n",
            "Saving to: ‘beam2D.inp’\n",
            "\n",
            "\rbeam2D.inp            0%[                    ]       0  --.-KB/s               \rbeam2D.inp          100%[===================>]   2.97K  --.-KB/s    in 0s      \n",
            "\n",
            "2022-01-17 06:47:47 (28.2 MB/s) - ‘beam2D.inp’ saved [3039/3039]\n",
            "\n"
          ]
        }
      ]
    },
    {
      "cell_type": "code",
      "metadata": {
        "id": "ykhqgM_J199P"
      },
      "source": [
        "example1 = \"/content/beam2D.inp\"\n",
        "file1 = open(example1, \"r\")\n",
        "Lines = file1.readlines()"
      ],
      "execution_count": 15,
      "outputs": []
    },
    {
      "cell_type": "code",
      "metadata": {
        "colab": {
          "base_uri": "https://localhost:8080/"
        },
        "id": "G7CROLBk2IkD",
        "outputId": "1decc41e-7733-4a6f-db1c-216f0581d601"
      },
      "source": [
        "print(Lines[30])"
      ],
      "execution_count": 16,
      "outputs": [
        {
          "output_type": "stream",
          "name": "stdout",
          "text": [
            "     22,          55.,           5.\n",
            "\n"
          ]
        }
      ]
    },
    {
      "cell_type": "code",
      "metadata": {
        "colab": {
          "base_uri": "https://localhost:8080/"
        },
        "id": "HaLXvltgD1EF",
        "outputId": "f8cab741-f893-498e-9975-30dd00aee619"
      },
      "source": [
        "!pip3 install pickle5\n",
        "import pickle5 as pickle"
      ],
      "execution_count": 17,
      "outputs": [
        {
          "output_type": "stream",
          "name": "stdout",
          "text": [
            "Collecting pickle5\n",
            "  Downloading pickle5-0.0.12-cp37-cp37m-manylinux_2_5_x86_64.manylinux1_x86_64.whl (256 kB)\n",
            "\u001b[?25l\r\u001b[K     |█▎                              | 10 kB 27.5 MB/s eta 0:00:01\r\u001b[K     |██▋                             | 20 kB 10.1 MB/s eta 0:00:01\r\u001b[K     |███▉                            | 30 kB 10.1 MB/s eta 0:00:01\r\u001b[K     |█████▏                          | 40 kB 8.8 MB/s eta 0:00:01\r\u001b[K     |██████▍                         | 51 kB 5.5 MB/s eta 0:00:01\r\u001b[K     |███████▊                        | 61 kB 5.6 MB/s eta 0:00:01\r\u001b[K     |█████████                       | 71 kB 5.3 MB/s eta 0:00:01\r\u001b[K     |██████████▎                     | 81 kB 5.9 MB/s eta 0:00:01\r\u001b[K     |███████████▌                    | 92 kB 4.8 MB/s eta 0:00:01\r\u001b[K     |████████████▉                   | 102 kB 5.1 MB/s eta 0:00:01\r\u001b[K     |██████████████                  | 112 kB 5.1 MB/s eta 0:00:01\r\u001b[K     |███████████████▍                | 122 kB 5.1 MB/s eta 0:00:01\r\u001b[K     |████████████████▋               | 133 kB 5.1 MB/s eta 0:00:01\r\u001b[K     |██████████████████              | 143 kB 5.1 MB/s eta 0:00:01\r\u001b[K     |███████████████████▏            | 153 kB 5.1 MB/s eta 0:00:01\r\u001b[K     |████████████████████▌           | 163 kB 5.1 MB/s eta 0:00:01\r\u001b[K     |█████████████████████▊          | 174 kB 5.1 MB/s eta 0:00:01\r\u001b[K     |███████████████████████         | 184 kB 5.1 MB/s eta 0:00:01\r\u001b[K     |████████████████████████▎       | 194 kB 5.1 MB/s eta 0:00:01\r\u001b[K     |█████████████████████████▋      | 204 kB 5.1 MB/s eta 0:00:01\r\u001b[K     |██████████████████████████▉     | 215 kB 5.1 MB/s eta 0:00:01\r\u001b[K     |████████████████████████████▏   | 225 kB 5.1 MB/s eta 0:00:01\r\u001b[K     |█████████████████████████████▍  | 235 kB 5.1 MB/s eta 0:00:01\r\u001b[K     |██████████████████████████████▊ | 245 kB 5.1 MB/s eta 0:00:01\r\u001b[K     |████████████████████████████████| 256 kB 5.1 MB/s eta 0:00:01\r\u001b[K     |████████████████████████████████| 256 kB 5.1 MB/s \n",
            "\u001b[?25hInstalling collected packages: pickle5\n",
            "Successfully installed pickle5-0.0.12\n"
          ]
        }
      ]
    },
    {
      "cell_type": "code",
      "metadata": {
        "id": "lrHnHnigQEm2"
      },
      "source": [
        "\n",
        "D_path = \"/content/beam_pickled_data.pkl\"\n",
        "with open(D_path, \"rb\") as input_file:\n",
        "       e = pickle.load(input_file)"
      ],
      "execution_count": 18,
      "outputs": []
    },
    {
      "cell_type": "code",
      "metadata": {
        "id": "pl9RwEbIXsda"
      },
      "source": [
        ""
      ],
      "execution_count": 18,
      "outputs": []
    },
    {
      "cell_type": "markdown",
      "metadata": {
        "id": "yOMgAmvCX0em"
      },
      "source": [
        "# priprava datasetu"
      ]
    },
    {
      "cell_type": "code",
      "metadata": {
        "colab": {
          "base_uri": "https://localhost:8080/"
        },
        "id": "s1H90C6lYJow",
        "outputId": "df05aa64-817d-4caa-e51f-20213ce773d6"
      },
      "source": [
        "e.keys()"
      ],
      "execution_count": 19,
      "outputs": [
        {
          "output_type": "execute_result",
          "data": {
            "text/plain": [
              "dict_keys(['framebeam_0', 'framebeam_1', 'framebeam_10', 'framebeam_100', 'framebeam_101', 'framebeam_102', 'framebeam_11', 'framebeam_12', 'framebeam_13', 'framebeam_14', 'framebeam_15', 'framebeam_16', 'framebeam_17', 'framebeam_18', 'framebeam_19', 'framebeam_2', 'framebeam_20', 'framebeam_21', 'framebeam_22', 'framebeam_23', 'framebeam_24', 'framebeam_25', 'framebeam_26', 'framebeam_27', 'framebeam_28', 'framebeam_29', 'framebeam_3', 'framebeam_30', 'framebeam_31', 'framebeam_32', 'framebeam_33', 'framebeam_34', 'framebeam_35', 'framebeam_36', 'framebeam_37', 'framebeam_38', 'framebeam_39', 'framebeam_4', 'framebeam_40', 'framebeam_41', 'framebeam_42', 'framebeam_43', 'framebeam_44', 'framebeam_45', 'framebeam_46', 'framebeam_47', 'framebeam_48', 'framebeam_49', 'framebeam_5', 'framebeam_50', 'framebeam_51', 'framebeam_52', 'framebeam_53', 'framebeam_54', 'framebeam_55', 'framebeam_56', 'framebeam_57', 'framebeam_58', 'framebeam_59', 'framebeam_6', 'framebeam_60', 'framebeam_61', 'framebeam_62', 'framebeam_63', 'framebeam_64', 'framebeam_65', 'framebeam_66', 'framebeam_67', 'framebeam_68', 'framebeam_69', 'framebeam_7', 'framebeam_70', 'framebeam_71', 'framebeam_72', 'framebeam_73', 'framebeam_74', 'framebeam_75', 'framebeam_76', 'framebeam_77', 'framebeam_78', 'framebeam_79', 'framebeam_8', 'framebeam_80', 'framebeam_81', 'framebeam_82', 'framebeam_83', 'framebeam_84', 'framebeam_85', 'framebeam_86', 'framebeam_87', 'framebeam_88', 'framebeam_89', 'framebeam_9', 'framebeam_90', 'framebeam_91', 'framebeam_92', 'framebeam_93', 'framebeam_94', 'framebeam_95', 'framebeam_96', 'framebeam_97', 'framebeam_98', 'framebeam_99'])"
            ]
          },
          "metadata": {},
          "execution_count": 19
        }
      ]
    },
    {
      "cell_type": "code",
      "metadata": {
        "id": "EliNADvtY9VZ"
      },
      "source": [
        ""
      ],
      "execution_count": 19,
      "outputs": []
    },
    {
      "cell_type": "markdown",
      "metadata": {
        "id": "Ahnyg4w9ZCf-"
      },
      "source": [
        "## X prep\n",
        "Co je vstupem ... data ze senzoru\n",
        "Set v inp se nejak jmenuje"
      ]
    },
    {
      "cell_type": "code",
      "source": [
        ""
      ],
      "metadata": {
        "id": "6Lqc-OhyObse"
      },
      "execution_count": 19,
      "outputs": []
    },
    {
      "cell_type": "markdown",
      "metadata": {
        "id": "mW63eLeqZTTI"
      },
      "source": [
        "## y prep \n",
        "Woo ostatni nody mimo X\n",
        "$y$"
      ]
    },
    {
      "cell_type": "code",
      "metadata": {
        "id": "YCDd476kZNCH"
      },
      "source": [
        ""
      ],
      "execution_count": 19,
      "outputs": []
    },
    {
      "cell_type": "markdown",
      "metadata": {
        "id": "TmPA_BNjX1WJ"
      },
      "source": [
        "# vizualizace pres vtk"
      ]
    },
    {
      "cell_type": "code",
      "metadata": {
        "colab": {
          "base_uri": "https://localhost:8080/"
        },
        "id": "E8tODBRyYISp",
        "outputId": "f4f06220-b680-4066-af64-0ca7e3148aa6"
      },
      "source": [
        "!pip3 install vtk"
      ],
      "execution_count": 20,
      "outputs": [
        {
          "output_type": "stream",
          "name": "stdout",
          "text": [
            "Collecting vtk\n",
            "  Downloading vtk-9.1.0-cp37-cp37m-manylinux_2_17_x86_64.manylinux2014_x86_64.whl (88.3 MB)\n",
            "\u001b[K     |████████████████████████████████| 88.3 MB 105 kB/s \n",
            "\u001b[?25hCollecting wslink>=1.0.4\n",
            "  Downloading wslink-1.3.1-py3-none-any.whl (21 kB)\n",
            "Requirement already satisfied: matplotlib>=2.0.0 in /usr/local/lib/python3.7/dist-packages (from vtk) (3.2.2)\n",
            "Requirement already satisfied: pyparsing!=2.0.4,!=2.1.2,!=2.1.6,>=2.0.1 in /usr/local/lib/python3.7/dist-packages (from matplotlib>=2.0.0->vtk) (3.0.6)\n",
            "Requirement already satisfied: python-dateutil>=2.1 in /usr/local/lib/python3.7/dist-packages (from matplotlib>=2.0.0->vtk) (2.8.2)\n",
            "Requirement already satisfied: kiwisolver>=1.0.1 in /usr/local/lib/python3.7/dist-packages (from matplotlib>=2.0.0->vtk) (1.3.2)\n",
            "Requirement already satisfied: numpy>=1.11 in /usr/local/lib/python3.7/dist-packages (from matplotlib>=2.0.0->vtk) (1.19.5)\n",
            "Requirement already satisfied: cycler>=0.10 in /usr/local/lib/python3.7/dist-packages (from matplotlib>=2.0.0->vtk) (0.11.0)\n",
            "Requirement already satisfied: six>=1.5 in /usr/local/lib/python3.7/dist-packages (from python-dateutil>=2.1->matplotlib>=2.0.0->vtk) (1.15.0)\n",
            "Collecting aiohttp\n",
            "  Downloading aiohttp-3.8.1-cp37-cp37m-manylinux_2_5_x86_64.manylinux1_x86_64.manylinux_2_12_x86_64.manylinux2010_x86_64.whl (1.1 MB)\n",
            "\u001b[K     |████████████████████████████████| 1.1 MB 57.0 MB/s \n",
            "\u001b[?25hCollecting frozenlist>=1.1.1\n",
            "  Downloading frozenlist-1.2.0-cp37-cp37m-manylinux_2_5_x86_64.manylinux1_x86_64.manylinux_2_12_x86_64.manylinux2010_x86_64.whl (192 kB)\n",
            "\u001b[K     |████████████████████████████████| 192 kB 46.8 MB/s \n",
            "\u001b[?25hCollecting yarl<2.0,>=1.0\n",
            "  Downloading yarl-1.7.2-cp37-cp37m-manylinux_2_5_x86_64.manylinux1_x86_64.manylinux_2_12_x86_64.manylinux2010_x86_64.whl (271 kB)\n",
            "\u001b[K     |████████████████████████████████| 271 kB 60.7 MB/s \n",
            "\u001b[?25hRequirement already satisfied: charset-normalizer<3.0,>=2.0 in /usr/local/lib/python3.7/dist-packages (from aiohttp->wslink>=1.0.4->vtk) (2.0.10)\n",
            "Collecting async-timeout<5.0,>=4.0.0a3\n",
            "  Downloading async_timeout-4.0.2-py3-none-any.whl (5.8 kB)\n",
            "Collecting multidict<7.0,>=4.5\n",
            "  Downloading multidict-5.2.0-cp37-cp37m-manylinux_2_5_x86_64.manylinux1_x86_64.manylinux_2_12_x86_64.manylinux2010_x86_64.whl (160 kB)\n",
            "\u001b[K     |████████████████████████████████| 160 kB 54.2 MB/s \n",
            "\u001b[?25hRequirement already satisfied: typing-extensions>=3.7.4 in /usr/local/lib/python3.7/dist-packages (from aiohttp->wslink>=1.0.4->vtk) (3.10.0.2)\n",
            "Requirement already satisfied: attrs>=17.3.0 in /usr/local/lib/python3.7/dist-packages (from aiohttp->wslink>=1.0.4->vtk) (21.4.0)\n",
            "Collecting asynctest==0.13.0\n",
            "  Downloading asynctest-0.13.0-py3-none-any.whl (26 kB)\n",
            "Collecting aiosignal>=1.1.2\n",
            "  Downloading aiosignal-1.2.0-py3-none-any.whl (8.2 kB)\n",
            "Requirement already satisfied: idna>=2.0 in /usr/local/lib/python3.7/dist-packages (from yarl<2.0,>=1.0->aiohttp->wslink>=1.0.4->vtk) (2.10)\n",
            "Installing collected packages: multidict, frozenlist, yarl, asynctest, async-timeout, aiosignal, aiohttp, wslink, vtk\n",
            "Successfully installed aiohttp-3.8.1 aiosignal-1.2.0 async-timeout-4.0.2 asynctest-0.13.0 frozenlist-1.2.0 multidict-5.2.0 vtk-9.1.0 wslink-1.3.1 yarl-1.7.2\n"
          ]
        }
      ]
    },
    {
      "cell_type": "code",
      "metadata": {
        "id": "CBdn728kY5t6"
      },
      "source": [
        ""
      ],
      "execution_count": 20,
      "outputs": []
    },
    {
      "cell_type": "markdown",
      "metadata": {
        "id": "A959JmQPYeTq"
      },
      "source": [
        "# test pymapdl"
      ]
    },
    {
      "cell_type": "code",
      "metadata": {
        "id": "5qXPiW9eYkcQ"
      },
      "source": [
        "#!pip3 install pymapdl"
      ],
      "execution_count": 21,
      "outputs": []
    },
    {
      "cell_type": "markdown",
      "source": [
        "# Load Graph pres torch\n",
        "z githubu \n",
        "torch format\n",
        "https://towardsdatascience.com/7-ways-to-load-external-data-into-google-colab-7ba73e7d5fc7\n"
      ],
      "metadata": {
        "id": "qGP_DIRCPEq4"
      }
    },
    {
      "cell_type": "markdown",
      "source": [
        "# New Section"
      ],
      "metadata": {
        "id": "IPWSQGj50Kg1"
      }
    },
    {
      "cell_type": "code",
      "source": [
        "!wget https://github.com/KokBob/GFdataset/upload/main/beam2D.bin\n",
        "!wget https://github.com/KokBob/GFdataset/upload/main/beam2D.g"
      ],
      "metadata": {
        "colab": {
          "base_uri": "https://localhost:8080/"
        },
        "id": "mCmUsJZxPsf3",
        "outputId": "be1a9a13-3828-4b35-c97e-ceabe910e1e5"
      },
      "execution_count": 22,
      "outputs": [
        {
          "output_type": "stream",
          "name": "stdout",
          "text": [
            "--2022-01-17 06:48:08--  https://github.com/KokBob/GFdataset/upload/main/beam2D.bin\n",
            "Resolving github.com (github.com)... 140.82.112.4\n",
            "Connecting to github.com (github.com)|140.82.112.4|:443... connected.\n",
            "HTTP request sent, awaiting response... 200 OK\n",
            "Length: unspecified [text/html]\n",
            "Saving to: ‘beam2D.bin’\n",
            "\n",
            "beam2D.bin              [ <=>                ] 119.72K  --.-KB/s    in 0.04s   \n",
            "\n",
            "2022-01-17 06:48:08 (3.24 MB/s) - ‘beam2D.bin’ saved [122593]\n",
            "\n",
            "--2022-01-17 06:48:09--  https://github.com/KokBob/GFdataset/upload/main/beam2D.g\n",
            "Resolving github.com (github.com)... 140.82.114.4\n",
            "Connecting to github.com (github.com)|140.82.114.4|:443... connected.\n",
            "HTTP request sent, awaiting response... 200 OK\n",
            "Length: unspecified [text/html]\n",
            "Saving to: ‘beam2D.g’\n",
            "\n",
            "beam2D.g                [ <=>                ] 119.51K  --.-KB/s    in 0.04s   \n",
            "\n",
            "2022-01-17 06:48:09 (3.07 MB/s) - ‘beam2D.g’ saved [122378]\n",
            "\n"
          ]
        }
      ]
    },
    {
      "cell_type": "markdown",
      "source": [
        ""
      ],
      "metadata": {
        "id": "AtOQCBhBQ8ep"
      }
    },
    {
      "cell_type": "code",
      "source": [
        "import pandas as pd\n",
        "d1 = pd.read_pickle('beam2D.g') # asi to neni pres pickle "
      ],
      "metadata": {
        "id": "sTSZ9_e2zxhl",
        "outputId": "816c11bd-557a-4eae-9212-3fa0f93fef52",
        "colab": {
          "base_uri": "https://localhost:8080/",
          "height": 304
        }
      },
      "execution_count": 26,
      "outputs": [
        {
          "output_type": "error",
          "ename": "UnpicklingError",
          "evalue": "ignored",
          "traceback": [
            "\u001b[0;31m---------------------------------------------------------------------------\u001b[0m",
            "\u001b[0;31mUnpicklingError\u001b[0m                           Traceback (most recent call last)",
            "\u001b[0;32m<ipython-input-26-b86525e210fb>\u001b[0m in \u001b[0;36m<module>\u001b[0;34m()\u001b[0m\n\u001b[1;32m      1\u001b[0m \u001b[0;32mimport\u001b[0m \u001b[0mpandas\u001b[0m \u001b[0;32mas\u001b[0m \u001b[0mpd\u001b[0m\u001b[0;34m\u001b[0m\u001b[0;34m\u001b[0m\u001b[0m\n\u001b[0;32m----> 2\u001b[0;31m \u001b[0md1\u001b[0m \u001b[0;34m=\u001b[0m \u001b[0mpd\u001b[0m\u001b[0;34m.\u001b[0m\u001b[0mread_pickle\u001b[0m\u001b[0;34m(\u001b[0m\u001b[0;34m'beam2D.g'\u001b[0m\u001b[0;34m)\u001b[0m\u001b[0;34m\u001b[0m\u001b[0;34m\u001b[0m\u001b[0m\n\u001b[0m",
            "\u001b[0;32m/usr/local/lib/python3.7/dist-packages/pandas/io/pickle.py\u001b[0m in \u001b[0;36mread_pickle\u001b[0;34m(filepath_or_buffer, compression)\u001b[0m\n\u001b[1;32m    180\u001b[0m                 \u001b[0;31m# We want to silence any warnings about, e.g. moved modules.\u001b[0m\u001b[0;34m\u001b[0m\u001b[0;34m\u001b[0m\u001b[0;34m\u001b[0m\u001b[0m\n\u001b[1;32m    181\u001b[0m                 \u001b[0mwarnings\u001b[0m\u001b[0;34m.\u001b[0m\u001b[0msimplefilter\u001b[0m\u001b[0;34m(\u001b[0m\u001b[0;34m\"ignore\"\u001b[0m\u001b[0;34m,\u001b[0m \u001b[0mWarning\u001b[0m\u001b[0;34m)\u001b[0m\u001b[0;34m\u001b[0m\u001b[0;34m\u001b[0m\u001b[0m\n\u001b[0;32m--> 182\u001b[0;31m                 \u001b[0;32mreturn\u001b[0m \u001b[0mpickle\u001b[0m\u001b[0;34m.\u001b[0m\u001b[0mload\u001b[0m\u001b[0;34m(\u001b[0m\u001b[0mf\u001b[0m\u001b[0;34m)\u001b[0m\u001b[0;34m\u001b[0m\u001b[0;34m\u001b[0m\u001b[0m\n\u001b[0m\u001b[1;32m    183\u001b[0m         \u001b[0;32mexcept\u001b[0m \u001b[0mexcs_to_catch\u001b[0m\u001b[0;34m:\u001b[0m\u001b[0;34m\u001b[0m\u001b[0;34m\u001b[0m\u001b[0m\n\u001b[1;32m    184\u001b[0m             \u001b[0;31m# e.g.\u001b[0m\u001b[0;34m\u001b[0m\u001b[0;34m\u001b[0m\u001b[0;34m\u001b[0m\u001b[0m\n",
            "\u001b[0;31mUnpicklingError\u001b[0m: invalid load key, '\\x0a'."
          ]
        }
      ]
    },
    {
      "cell_type": "code",
      "source": [
        "import torch as th\n",
        "#G_torch = th.load(\"./beam2D.g\")"
      ],
      "metadata": {
        "id": "CLrXQiHoQgi4"
      },
      "execution_count": 23,
      "outputs": []
    },
    {
      "cell_type": "code",
      "source": [
        ""
      ],
      "metadata": {
        "id": "AzcZaWxFRoMn"
      },
      "execution_count": 23,
      "outputs": []
    },
    {
      "cell_type": "markdown",
      "source": [
        "# Cteni grafu pres DGL\n",
        "dgl-ko tady dobre nefunguje \n"
      ],
      "metadata": {
        "id": "SWovYi74PDF2"
      }
    },
    {
      "cell_type": "code",
      "source": [
        "from dgl.data.utils import save_graphs\n",
        "import torch as th\n",
        "from dgl.data.utils import load_graphs\n"
      ],
      "metadata": {
        "id": "tX4uR496RA5p"
      },
      "execution_count": 24,
      "outputs": []
    },
    {
      "cell_type": "code",
      "source": [
        "#G = load_graphs(\"./beam2D.bin\", [0]) # tohle tady nejak nefunguje"
      ],
      "metadata": {
        "id": "jb8hWWb0Ru94"
      },
      "execution_count": 25,
      "outputs": []
    }
  ]
}