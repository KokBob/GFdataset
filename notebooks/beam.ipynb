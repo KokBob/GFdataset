{
  "nbformat": 4,
  "nbformat_minor": 0,
  "metadata": {
    "colab": {
      "name": "GFloadBeam_03.ipynb",
      "provenance": [],
      "collapsed_sections": [
        "TmPA_BNjX1WJ",
        "SWovYi74PDF2"
      ],
      "toc_visible": true,
      "authorship_tag": "ABX9TyOM22nbV5tZxR0sqXEG6LHt",
      "include_colab_link": true
    },
    "kernelspec": {
      "display_name": "Python 3",
      "name": "python3"
    },
    "language_info": {
      "name": "python"
    }
  },
  "cells": [
    {
      "cell_type": "markdown",
      "metadata": {
        "id": "view-in-github",
        "colab_type": "text"
      },
      "source": [
        "<a href=\"https://colab.research.google.com/github/KokBob/GDA/blob/master/GFloadBeam_11.ipynb\" target=\"_parent\"><img src=\"https://colab.research.google.com/assets/colab-badge.svg\" alt=\"Open In Colab\"/></a>"
      ]
    },
    {
      "cell_type": "markdown",
      "source": [
        "# Uvod a prehled\n",
        "\n",
        "update : 25 duben 2022 \\\\\n",
        "\n",
        "je potreba projet znovu beam a chystat se na zuniversalneni kodu\n",
        "priprava load casu "
      ],
      "metadata": {
        "id": "fYhzap4oX5g6"
      }
    },
    {
      "cell_type": "code",
      "metadata": {
        "id": "9qh98vu2s8Ei"
      },
      "source": [
        "#Easiest way to upload large datasets to Google Colab!"
      ],
      "execution_count": null,
      "outputs": []
    },
    {
      "cell_type": "markdown",
      "source": [
        "# Knihovny nacteni, mounting, etc ."
      ],
      "metadata": {
        "id": "7TlZFmdxwjKv"
      }
    },
    {
      "cell_type": "code",
      "metadata": {
        "colab": {
          "base_uri": "https://localhost:8080/"
        },
        "id": "81FhMgloZG75",
        "outputId": "76a1e07d-7520-49e3-baf1-d6f0846b3e02"
      },
      "source": [
        "# pyg tady bude , trva moc dlouho pro beh , takze v tomhle nb bude dgl ale jen pro networkx ...\n",
        "# natahnuti techto knihoven momentalne nepotrebuju hned na zacatku\n",
        "# knihovny budu volat jakmile to bude aktualni\n",
        "Pytorch geometric\n",
        "#!pip3 install torch-scatter -f https://data.pyg.org/whl/torch-${TORCH}+${CUDA}.html \n",
        "#!pip3 install torch-geometric\n",
        "!pip3 install torch-sparse -f https://data.pyg.org/whl/torch-${TORCH}+${CUDA}.html"
      ],
      "execution_count": null,
      "outputs": [
        {
          "output_type": "stream",
          "name": "stdout",
          "text": [
            "Looking in links: https://data.pyg.org/whl/torch-+.html\n",
            "Collecting torch-scatter\n",
            "  Downloading torch_scatter-2.0.9.tar.gz (21 kB)\n",
            "Building wheels for collected packages: torch-scatter\n",
            "  Building wheel for torch-scatter (setup.py) ... \u001b[?25l\u001b[?25hdone\n",
            "  Created wheel for torch-scatter: filename=torch_scatter-2.0.9-cp37-cp37m-linux_x86_64.whl size=282116 sha256=cce7cfd638d5780d767dfd3c3a94c73671d8e3553ddf3d6548c93ad267d7cddc\n",
            "  Stored in directory: /root/.cache/pip/wheels/dd/57/a3/42ea193b77378ce634eb9454c9bc1e3163f3b482a35cdee4d1\n",
            "Successfully built torch-scatter\n",
            "Installing collected packages: torch-scatter\n",
            "Successfully installed torch-scatter-2.0.9\n",
            "Collecting torch-geometric\n",
            "  Downloading torch_geometric-2.0.4.tar.gz (407 kB)\n",
            "\u001b[K     |████████████████████████████████| 407 kB 7.8 MB/s \n",
            "\u001b[?25hRequirement already satisfied: tqdm in /usr/local/lib/python3.7/dist-packages (from torch-geometric) (4.64.0)\n",
            "Requirement already satisfied: numpy in /usr/local/lib/python3.7/dist-packages (from torch-geometric) (1.21.6)\n",
            "Requirement already satisfied: scipy in /usr/local/lib/python3.7/dist-packages (from torch-geometric) (1.4.1)\n",
            "Requirement already satisfied: pandas in /usr/local/lib/python3.7/dist-packages (from torch-geometric) (1.3.5)\n",
            "Requirement already satisfied: jinja2 in /usr/local/lib/python3.7/dist-packages (from torch-geometric) (2.11.3)\n",
            "Requirement already satisfied: requests in /usr/local/lib/python3.7/dist-packages (from torch-geometric) (2.23.0)\n",
            "Requirement already satisfied: pyparsing in /usr/local/lib/python3.7/dist-packages (from torch-geometric) (3.0.8)\n",
            "Requirement already satisfied: scikit-learn in /usr/local/lib/python3.7/dist-packages (from torch-geometric) (1.0.2)\n",
            "Requirement already satisfied: MarkupSafe>=0.23 in /usr/local/lib/python3.7/dist-packages (from jinja2->torch-geometric) (2.0.1)\n",
            "Requirement already satisfied: python-dateutil>=2.7.3 in /usr/local/lib/python3.7/dist-packages (from pandas->torch-geometric) (2.8.2)\n",
            "Requirement already satisfied: pytz>=2017.3 in /usr/local/lib/python3.7/dist-packages (from pandas->torch-geometric) (2022.1)\n",
            "Requirement already satisfied: six>=1.5 in /usr/local/lib/python3.7/dist-packages (from python-dateutil>=2.7.3->pandas->torch-geometric) (1.15.0)\n",
            "Requirement already satisfied: certifi>=2017.4.17 in /usr/local/lib/python3.7/dist-packages (from requests->torch-geometric) (2021.10.8)\n",
            "Requirement already satisfied: idna<3,>=2.5 in /usr/local/lib/python3.7/dist-packages (from requests->torch-geometric) (2.10)\n",
            "Requirement already satisfied: urllib3!=1.25.0,!=1.25.1,<1.26,>=1.21.1 in /usr/local/lib/python3.7/dist-packages (from requests->torch-geometric) (1.24.3)\n",
            "Requirement already satisfied: chardet<4,>=3.0.2 in /usr/local/lib/python3.7/dist-packages (from requests->torch-geometric) (3.0.4)\n",
            "Requirement already satisfied: joblib>=0.11 in /usr/local/lib/python3.7/dist-packages (from scikit-learn->torch-geometric) (1.1.0)\n",
            "Requirement already satisfied: threadpoolctl>=2.0.0 in /usr/local/lib/python3.7/dist-packages (from scikit-learn->torch-geometric) (3.1.0)\n",
            "Building wheels for collected packages: torch-geometric\n",
            "  Building wheel for torch-geometric (setup.py) ... \u001b[?25l\u001b[?25hdone\n",
            "  Created wheel for torch-geometric: filename=torch_geometric-2.0.4-py3-none-any.whl size=616603 sha256=c9edfdbfb8350802244022256c2a35aabaa274a719a86d10e6e2527202d9ed1f\n",
            "  Stored in directory: /root/.cache/pip/wheels/18/a6/a4/ca18c3051fcead866fe7b85700ee2240d883562a1bc70ce421\n",
            "Successfully built torch-geometric\n",
            "Installing collected packages: torch-geometric\n",
            "Successfully installed torch-geometric-2.0.4\n",
            "Looking in links: https://data.pyg.org/whl/torch-+.html\n",
            "Collecting torch-sparse\n",
            "  Downloading torch_sparse-0.6.13.tar.gz (48 kB)\n",
            "\u001b[K     |████████████████████████████████| 48 kB 3.4 MB/s \n",
            "\u001b[?25hRequirement already satisfied: scipy in /usr/local/lib/python3.7/dist-packages (from torch-sparse) (1.4.1)\n",
            "Requirement already satisfied: numpy>=1.13.3 in /usr/local/lib/python3.7/dist-packages (from scipy->torch-sparse) (1.21.6)\n",
            "Building wheels for collected packages: torch-sparse\n",
            "  Building wheel for torch-sparse (setup.py) ... \u001b[?25l\u001b[?25hdone\n",
            "  Created wheel for torch-sparse: filename=torch_sparse-0.6.13-cp37-cp37m-linux_x86_64.whl size=510031 sha256=893c47a4cb3a76fa80f883c963c0620c64c5ebdeff556b23c58b6322ab2ac372\n",
            "  Stored in directory: /root/.cache/pip/wheels/e0/01/be/6b2966e0ff20bb023ae35e5d17903e6e5b4df46dd5892f6be6\n",
            "Successfully built torch-sparse\n",
            "Installing collected packages: torch-sparse\n",
            "Successfully installed torch-sparse-0.6.13\n"
          ]
        }
      ]
    },
    {
      "cell_type": "code",
      "metadata": {
        "colab": {
          "base_uri": "https://localhost:8080/"
        },
        "id": "SVLKN6vEj11a",
        "outputId": "ed633920-f224-477f-dcba-f2001cf1f154"
      },
      "source": [
        "from google.colab import drive\n",
        "drive.mount('/content/drive')"
      ],
      "execution_count": null,
      "outputs": [
        {
          "output_type": "stream",
          "name": "stdout",
          "text": [
            "Mounted at /content/drive\n"
          ]
        }
      ]
    },
    {
      "cell_type": "code",
      "metadata": {
        "colab": {
          "base_uri": "https://localhost:8080/"
        },
        "id": "hAarahs7kgtm",
        "outputId": "c3d5a25a-5b03-4185-974f-95a8973e5b91"
      },
      "source": [
        "import zipfile\n",
        "!unzip /content/drive/MyDrive/Disertace/beam2D_torch.zip"
      ],
      "execution_count": null,
      "outputs": [
        {
          "output_type": "stream",
          "name": "stdout",
          "text": [
            "Archive:  /content/drive/MyDrive/Disertace/beam2D_torch.zip\n",
            "  inflating: beam2D_torch.bin        \n"
          ]
        }
      ]
    },
    {
      "cell_type": "code",
      "metadata": {
        "colab": {
          "base_uri": "https://localhost:8080/"
        },
        "id": "UGVshNpJyARZ",
        "outputId": "04995fe3-e3e4-4312-ea88-cd8776328b23"
      },
      "source": [
        "!unzip /content/drive/MyDrive/Disertace/beam_pickled_data"
      ],
      "execution_count": null,
      "outputs": [
        {
          "output_type": "stream",
          "name": "stdout",
          "text": [
            "Archive:  /content/drive/MyDrive/Disertace/beam_pickled_data.zip\n",
            "  inflating: beam_pickled_data.pkl   \n"
          ]
        }
      ]
    },
    {
      "cell_type": "code",
      "metadata": {
        "id": "5wmj6x9Ik0N_"
      },
      "source": [
        "import pickle \n",
        "import torch as th\n",
        "import networkx as nx\n",
        "from torch_geometric.utils.convert import to_networkx, from_networkx"
      ],
      "execution_count": null,
      "outputs": []
    },
    {
      "cell_type": "code",
      "metadata": {
        "id": "5JwrFbd9rF-E"
      },
      "source": [
        "# puvodne je bin sejvnutej pres dgl , tu momentalne pouzivat nebudu\n",
        "# G_torch = th.load(r'/content/beam2D_torch.bin',pickle_module=pickle) # \n",
        "# G = pickle.load(r'/content/beam2D_torch.bin')\n",
        "#print(G_torch.ndata)"
      ],
      "execution_count": null,
      "outputs": []
    },
    {
      "cell_type": "markdown",
      "source": [
        "[pyg tonwtworkx](https://stackoverflow.com/questions/70452465/how-to-load-in-graph-from-networkx-into-pytorch-geometric-and-set-node-features)"
      ],
      "metadata": {
        "id": "rhO-k3tGRgpG"
      }
    },
    {
      "cell_type": "code",
      "metadata": {
        "id": "AeURQhKos7DW"
      },
      "source": [
        "# G_nx = dgl.to_networkx(G_torch)\n",
        "# G_nx = "
      ],
      "execution_count": null,
      "outputs": []
    },
    {
      "cell_type": "code",
      "metadata": {
        "id": "b2y6lETAwGPW"
      },
      "source": [
        "#nx.draw(G_nx)"
      ],
      "execution_count": null,
      "outputs": []
    },
    {
      "cell_type": "markdown",
      "metadata": {
        "id": "ikKUNL_o4AHO"
      },
      "source": [
        "rozdeleni na X a y ..\n",
        "X ... nody pro mereni , napriklad primo pod silou a v blizkem okoli\n",
        "y ... ostatni nody \n",
        "... co s vetknutymi nody, tam prece napeti bude, takze je nemuzu mit jako vstupni \n",
        "\n",
        "---\n",
        "\n",
        "\n",
        "k tomu je potreba co, inp file pro beam ... "
      ]
    },
    {
      "cell_type": "markdown",
      "metadata": {
        "id": "_TWkh3wC4X3C"
      },
      "source": [
        ""
      ]
    },
    {
      "cell_type": "code",
      "metadata": {
        "id": "a8beySmwyCGz"
      },
      "source": [
        "Url_inp =r'https://raw.githubusercontent.com/KokBob/GFdataset/main/beam2D.inp'"
      ],
      "execution_count": null,
      "outputs": []
    },
    {
      "cell_type": "code",
      "metadata": {
        "id": "PVjDdrFHymiH"
      },
      "source": [
        "#file1 = open(Url_inp, 'r')\n",
        "#Lines = file1.readlines()"
      ],
      "execution_count": null,
      "outputs": []
    },
    {
      "cell_type": "code",
      "metadata": {
        "id": "lN-96SIUzwYL"
      },
      "source": [
        "import base64\n",
        "import requests\n",
        "\n",
        "master = Url_inp \n",
        "req = requests.get(master)\n",
        "req = req.text\n",
        "#print(req)"
      ],
      "execution_count": null,
      "outputs": []
    },
    {
      "cell_type": "code",
      "metadata": {
        "id": "onRkFHdF1XpN",
        "colab": {
          "base_uri": "https://localhost:8080/"
        },
        "outputId": "4c0482e8-5b87-41a3-e3e3-b9cf1117cf6e"
      },
      "source": [
        "# Download Example file\n",
        "\n",
        "!wget https://raw.githubusercontent.com/KokBob/GFdataset/main/beam2D.inp"
      ],
      "execution_count": null,
      "outputs": [
        {
          "output_type": "stream",
          "name": "stdout",
          "text": [
            "--2022-04-25 05:20:34--  https://raw.githubusercontent.com/KokBob/GFdataset/main/beam2D.inp\n",
            "Resolving raw.githubusercontent.com (raw.githubusercontent.com)... 185.199.108.133, 185.199.110.133, 185.199.111.133, ...\n",
            "Connecting to raw.githubusercontent.com (raw.githubusercontent.com)|185.199.108.133|:443... connected.\n",
            "HTTP request sent, awaiting response... 200 OK\n",
            "Length: 3039 (3.0K) [text/plain]\n",
            "Saving to: ‘beam2D.inp’\n",
            "\n",
            "\rbeam2D.inp            0%[                    ]       0  --.-KB/s               \rbeam2D.inp          100%[===================>]   2.97K  --.-KB/s    in 0s      \n",
            "\n",
            "2022-04-25 05:20:35 (30.2 MB/s) - ‘beam2D.inp’ saved [3039/3039]\n",
            "\n"
          ]
        }
      ]
    },
    {
      "cell_type": "code",
      "metadata": {
        "id": "ykhqgM_J199P"
      },
      "source": [
        "example1 = \"/content/beam2D.inp\"\n",
        "file1 = open(example1, \"r\")\n",
        "Lines = file1.readlines()"
      ],
      "execution_count": null,
      "outputs": []
    },
    {
      "cell_type": "code",
      "source": [
        "for _ in Lines[80:89]:\n",
        "  print(_)"
      ],
      "metadata": {
        "id": "CDi0aCTMR0j8",
        "colab": {
          "base_uri": "https://localhost:8080/"
        },
        "outputId": "34903e48-f624-4f17-da94-6bc65549ae37"
      },
      "execution_count": null,
      "outputs": [
        {
          "output_type": "stream",
          "name": "stdout",
          "text": [
            "*Nset, nset=Set-2, instance=Part-1-1\n",
            "\n",
            " 33,\n",
            "\n",
            "*Nset, nset=Set-BC, instance=Part-1-1, generate\n",
            "\n",
            "  1,  23,  11\n",
            "\n",
            "*Elset, elset=Set-BC, instance=Part-1-1\n",
            "\n",
            "  1, 11\n",
            "\n",
            "*End Assembly\n",
            "\n",
            "** \n",
            "\n",
            "** MATERIALS\n",
            "\n"
          ]
        }
      ]
    },
    {
      "cell_type": "code",
      "metadata": {
        "id": "G7CROLBk2IkD",
        "colab": {
          "base_uri": "https://localhost:8080/"
        },
        "outputId": "e38cef5d-c562-4e14-c590-827d10fc58af"
      },
      "source": [
        "print(Lines[30])"
      ],
      "execution_count": null,
      "outputs": [
        {
          "output_type": "stream",
          "name": "stdout",
          "text": [
            "     22,          55.,           5.\n",
            "\n"
          ]
        }
      ]
    },
    {
      "cell_type": "markdown",
      "source": [
        "ted je potreba vedet co je vevnitr"
      ],
      "metadata": {
        "id": "LOmFLIHfw0wD"
      }
    },
    {
      "cell_type": "markdown",
      "source": [
        "libraries to use "
      ],
      "metadata": {
        "id": "dxN0aCdzxRWq"
      }
    },
    {
      "cell_type": "code",
      "source": [
        "import re\n",
        "import pandas as pd"
      ],
      "metadata": {
        "id": "8XxiacSSw45p"
      },
      "execution_count": null,
      "outputs": []
    },
    {
      "cell_type": "markdown",
      "source": [
        "tohle tady nepotrebuju, uz je to nahore"
      ],
      "metadata": {
        "id": "qi7bIBVxxZ3z"
      }
    },
    {
      "cell_type": "code",
      "source": [
        "#file1 = open(example1, \"r\")\n",
        "#Lines = file1.readlines()\n",
        "rx_dict = { 'Stared': re.compile(r'\\*$'),\n",
        "            '1Star': re.compile(r'\\*\\b'),\n",
        "            '2Star': re.compile(r'\\*\\* \\b'), }"
      ],
      "metadata": {
        "id": "734_VnMjw9ZF"
      },
      "execution_count": null,
      "outputs": []
    },
    {
      "cell_type": "markdown",
      "source": [
        "inicializace prommennych"
      ],
      "metadata": {
        "id": "zMTtLCx0yGLj"
      }
    },
    {
      "cell_type": "code",
      "source": [
        "rd = {}\n",
        "i= 0\n",
        "a, b = 0, 0\n",
        "seq = []"
      ],
      "metadata": {
        "id": "CaYOsvOvxOO5"
      },
      "execution_count": null,
      "outputs": []
    },
    {
      "cell_type": "markdown",
      "source": [
        "loop ktery hleda vse z rx dict"
      ],
      "metadata": {
        "id": "GyN1qoGKyNbp"
      }
    },
    {
      "cell_type": "markdown",
      "source": [
        "## regex \n",
        "\n",
        "branky \n",
        "1. catch2DataFrame / nebo jinak \n",
        "2. drop unneeded \n",
        "\n",
        "literatura \\\n",
        "\n",
        "[1] [text odkazu](https://stackoverflow.com/questions/34002203/pull-information-from-abaqus-input-file\n",
        "\n",
        "\n",
        "\\ https://www.vipinajayakumar.com/parsing-text-with-python/\n",
        "\n",
        "\\ https://www.tutorialspoint.com/python/python_reg_expressions.htm\n",
        "\n",
        "\\ https://scresat.github.io/navigation/Python/11.+Regex+Dot+Star+and+the+Caret-Dollar+Characters.html)\n",
        "\n",
        "\\ https://stackoverflow.com/questions/34002203/pull-information-from-abaqus-input-file\n",
        "\n",
        "\\https://www.vipinajayakumar.com/parsing-text-with-python/\n",
        "\n",
        "\\https://www.tutorialspoint.com/python/python_reg_expressions.htm\n",
        "\n",
        "\\https://scresat.github.io/navigation/Python/11.+Regex+Dot+Star+and+the+Caret-Dollar+Characters.html\n",
        "```\n",
        "# Toto je naformátováno jako kód\n",
        "```\n",
        "\n"
      ],
      "metadata": {
        "id": "heaoj4A3y_tO"
      }
    },
    {
      "cell_type": "code",
      "source": [
        "for line in Lines:\n",
        "    try:    rd[matchingLine] = [i, b]\n",
        "    except: pass\n",
        "    for key, rx in rx_dict.items():\n",
        "        match = rx.search(line)\n",
        "        if match:   \n",
        "            matchingLine = line.split('\\*')[0]\n",
        "            rd[matchingLine] = [i, b]\n",
        "            b = i \n",
        "    i += 1"
      ],
      "metadata": {
        "id": "YiiqbutMyRqm"
      },
      "execution_count": null,
      "outputs": []
    },
    {
      "cell_type": "code",
      "source": [
        "# print(rd) # jen pro kontrolu "
      ],
      "metadata": {
        "id": "Y-bZ108-y0iR"
      },
      "execution_count": null,
      "outputs": []
    },
    {
      "cell_type": "markdown",
      "source": [
        "# Prehled co je v INP"
      ],
      "metadata": {
        "id": "7CYWmWXknXnW"
      }
    },
    {
      "cell_type": "code",
      "source": [
        "for _ in rd:  \n",
        "  #print( _ )\n",
        "  #print( rd[_] )\n",
        "  print( _ + ' : '+ str(rd[_]))"
      ],
      "metadata": {
        "id": "iD334dd6zNLZ",
        "colab": {
          "base_uri": "https://localhost:8080/"
        },
        "outputId": "dfe4c7fc-e827-4bda-aabd-0e5182cd0aa3"
      },
      "execution_count": null,
      "outputs": [
        {
          "output_type": "stream",
          "name": "stdout",
          "text": [
            "*Heading\n",
            " : [1, 0]\n",
            "** Job name: Job-2 Model name: Model-1\n",
            " : [2, 1]\n",
            "** Generated by: Abaqus/CAE 6.14-1\n",
            " : [3, 2]\n",
            "*Preprint, echo=NO, model=NO, history=NO, contact=NO\n",
            " : [4, 3]\n",
            "**\n",
            " : [75, 74]\n",
            "** PARTS\n",
            " : [6, 5]\n",
            "*Part, name=Part-1\n",
            " : [8, 7]\n",
            "*Node\n",
            " : [42, 8]\n",
            "*Element, type=CPS4R\n",
            " : [63, 42]\n",
            "*Nset, nset=Set-Part, generate\n",
            " : [65, 63]\n",
            "*Elset, elset=Set-Part, generate\n",
            " : [67, 65]\n",
            "** Section: Section-2\n",
            " : [68, 67]\n",
            "*Solid Section, elset=Set-Part, material=STEEL\n",
            " : [70, 68]\n",
            "*End Part\n",
            " : [72, 70]\n",
            "** ASSEMBLY\n",
            " : [74, 73]\n",
            "*Assembly, name=Assembly\n",
            " : [77, 75]\n",
            "*Instance, name=Part-1-1, part=Part-1\n",
            " : [78, 77]\n",
            "*End Instance\n",
            " : [80, 78]\n",
            "*Nset, nset=Set-2, instance=Part-1-1\n",
            " : [82, 80]\n",
            "*Nset, nset=Set-BC, instance=Part-1-1, generate\n",
            " : [84, 82]\n",
            "*Elset, elset=Set-BC, instance=Part-1-1\n",
            " : [86, 84]\n",
            "*End Assembly\n",
            " : [88, 86]\n",
            "** MATERIALS\n",
            " : [90, 88]\n",
            "*Material, name=STEEL\n",
            " : [91, 90]\n",
            "*Density\n",
            " : [93, 91]\n",
            "*Elastic\n",
            " : [96, 93]\n",
            "** BOUNDARY CONDITIONS\n",
            " : [98, 96]\n",
            "** Name: BC-1 Type: Symmetry/Antisymmetry/Encastre\n",
            " : [99, 98]\n",
            "*Boundary\n",
            " : [103, 99]\n",
            "** STEP: Step-1\n",
            " : [105, 103]\n",
            "*Step, name=Step-1, nlgeom=YES, inc=1000\n",
            " : [106, 105]\n",
            "*Static, stabilize=0.0002, allsdtol=0.05, continue=NO\n",
            " : [109, 106]\n",
            "** LOADS\n",
            " : [111, 109]\n",
            "** Name: Load-1   Type: Concentrated force\n",
            " : [112, 111]\n",
            "*Cload\n",
            " : [115, 112]\n",
            "** OUTPUT REQUESTS\n",
            " : [117, 115]\n",
            "*Restart, write, frequency=0\n",
            " : [119, 117]\n",
            "** FIELD OUTPUT: F-Output-1\n",
            " : [121, 119]\n",
            "*Output, field, variable=PRESELECT\n",
            " : [123, 121]\n",
            "** HISTORY OUTPUT: H-Output-1\n",
            " : [125, 123]\n",
            "*Output, history, variable=PRESELECT\n",
            " : [126, 125]\n",
            "*End Step\n",
            " : [126, 125]\n"
          ]
        }
      ]
    },
    {
      "cell_type": "markdown",
      "source": [
        "dalsi dobry pristup"
      ],
      "metadata": {
        "id": "PUw18Do9ytPS"
      }
    },
    {
      "cell_type": "code",
      "source": [
        "inputfile = example1\n",
        "with open(inputfile, 'r') as inpDeck: lines = inpDeck.read()\n",
        "lines2=re.findall(r\"^\\*Element\", lines, flags=re.IGNORECASE|re.MULTILINE)"
      ],
      "metadata": {
        "id": "8fSiBiMzyf4K"
      },
      "execution_count": null,
      "outputs": []
    },
    {
      "cell_type": "markdown",
      "source": [
        "# Cteni mezi radky\n",
        "tady chci dostat jen radky definovany int1, int2 "
      ],
      "metadata": {
        "id": "IWzXgQH_kBTJ"
      }
    },
    {
      "cell_type": "markdown",
      "source": [
        "## Nody"
      ],
      "metadata": {
        "id": "r-t-rqaonJ42"
      }
    },
    {
      "cell_type": "code",
      "source": [
        "nodes_lines = Lines[8:42] #jednoduse ... ale jak je pak narvu do dataframu ?"
      ],
      "metadata": {
        "id": "GyAG96_jkMLr"
      },
      "execution_count": null,
      "outputs": []
    },
    {
      "cell_type": "markdown",
      "source": [
        "### string lines to dataframe python"
      ],
      "metadata": {
        "id": "8gxjcfMyqyGZ"
      }
    },
    {
      "cell_type": "code",
      "source": [
        "# string lines to dataframe python\n",
        "#Use pandas. read_csv() to create a DataFrame from a string\n",
        "#data_string = \"\"\"Letters, Numbers.\n",
        "#a, 1.\n",
        "#b, 2.\n",
        "#c, 3\"\"\"\n",
        "import io\n",
        "data_string = nodes_lines[1:] # keyword musim odsud dostat"
      ],
      "metadata": {
        "id": "0HaQmfIhqwOa"
      },
      "execution_count": null,
      "outputs": []
    },
    {
      "cell_type": "code",
      "source": [
        "# for ds_ in data_string: print(ds_)"
      ],
      "metadata": {
        "id": "jN2JssexrpEh"
      },
      "execution_count": null,
      "outputs": []
    },
    {
      "cell_type": "code",
      "source": [
        "Lines[8:42]"
      ],
      "metadata": {
        "id": "ksdCMAGPkuRM",
        "colab": {
          "base_uri": "https://localhost:8080/"
        },
        "outputId": "4e309eb1-3e4a-4cdc-f686-2739f7e2c9cf"
      },
      "execution_count": null,
      "outputs": [
        {
          "output_type": "execute_result",
          "data": {
            "text/plain": [
              "['*Node\\n',\n",
              " '      1,           0.,           0.\\n',\n",
              " '      2,          5.5,           0.\\n',\n",
              " '      3,          11.,           0.\\n',\n",
              " '      4,         16.5,           0.\\n',\n",
              " '      5,          22.,           0.\\n',\n",
              " '      6,         27.5,           0.\\n',\n",
              " '      7,          33.,           0.\\n',\n",
              " '      8,         38.5,           0.\\n',\n",
              " '      9,          44.,           0.\\n',\n",
              " '     10,         49.5,           0.\\n',\n",
              " '     11,          55.,           0.\\n',\n",
              " '     12,           0.,           5.\\n',\n",
              " '     13,          5.5,           5.\\n',\n",
              " '     14,          11.,           5.\\n',\n",
              " '     15,         16.5,           5.\\n',\n",
              " '     16,          22.,           5.\\n',\n",
              " '     17,         27.5,           5.\\n',\n",
              " '     18,          33.,           5.\\n',\n",
              " '     19,         38.5,           5.\\n',\n",
              " '     20,          44.,           5.\\n',\n",
              " '     21,         49.5,           5.\\n',\n",
              " '     22,          55.,           5.\\n',\n",
              " '     23,           0.,          10.\\n',\n",
              " '     24,          5.5,          10.\\n',\n",
              " '     25,          11.,          10.\\n',\n",
              " '     26,         16.5,          10.\\n',\n",
              " '     27,          22.,          10.\\n',\n",
              " '     28,         27.5,          10.\\n',\n",
              " '     29,          33.,          10.\\n',\n",
              " '     30,         38.5,          10.\\n',\n",
              " '     31,          44.,          10.\\n',\n",
              " '     32,         49.5,          10.\\n',\n",
              " '     33,          55.,          10.\\n']"
            ]
          },
          "metadata": {},
          "execution_count": 27
        }
      ]
    },
    {
      "cell_type": "code",
      "source": [
        "# https://stackoverflow.com/questions/42171709/creating-pandas-dataframe-from-a-list-of-strings\n",
        "list_vals = data_string\n",
        "df_nodes = pd.read_csv(io.StringIO('\\n'.join(list_vals)),\n",
        " delim_whitespace=True,\n",
        " names = ['nol','x','y'])"
      ],
      "metadata": {
        "id": "P-2NUgdosaVS"
      },
      "execution_count": null,
      "outputs": []
    },
    {
      "cell_type": "code",
      "source": [
        "print(df_nodes)"
      ],
      "metadata": {
        "id": "VtATZEKhpIcL",
        "colab": {
          "base_uri": "https://localhost:8080/"
        },
        "outputId": "c34df16f-6094-4c94-9c51-b06168c9eadc"
      },
      "execution_count": null,
      "outputs": [
        {
          "output_type": "stream",
          "name": "stdout",
          "text": [
            "    nol      x     y\n",
            "0    1,    0.,   0.0\n",
            "1    2,   5.5,   0.0\n",
            "2    3,   11.,   0.0\n",
            "3    4,  16.5,   0.0\n",
            "4    5,   22.,   0.0\n",
            "5    6,  27.5,   0.0\n",
            "6    7,   33.,   0.0\n",
            "7    8,  38.5,   0.0\n",
            "8    9,   44.,   0.0\n",
            "9   10,  49.5,   0.0\n",
            "10  11,   55.,   0.0\n",
            "11  12,    0.,   5.0\n",
            "12  13,   5.5,   5.0\n",
            "13  14,   11.,   5.0\n",
            "14  15,  16.5,   5.0\n",
            "15  16,   22.,   5.0\n",
            "16  17,  27.5,   5.0\n",
            "17  18,   33.,   5.0\n",
            "18  19,  38.5,   5.0\n",
            "19  20,   44.,   5.0\n",
            "20  21,  49.5,   5.0\n",
            "21  22,   55.,   5.0\n",
            "22  23,    0.,  10.0\n",
            "23  24,   5.5,  10.0\n",
            "24  25,   11.,  10.0\n",
            "25  26,  16.5,  10.0\n",
            "26  27,   22.,  10.0\n",
            "27  28,  27.5,  10.0\n",
            "28  29,   33.,  10.0\n",
            "29  30,  38.5,  10.0\n",
            "30  31,   44.,  10.0\n",
            "31  32,  49.5,  10.0\n",
            "32  33,   55.,  10.0\n"
          ]
        }
      ]
    },
    {
      "cell_type": "markdown",
      "source": [
        "## Elementi\n",
        "odsat nejak dostat jen *Element a typ elementu nekde storovat, \n",
        "pro pripad ze bude multiple elementing model "
      ],
      "metadata": {
        "id": "zvDmgJGGlimp"
      }
    },
    {
      "cell_type": "code",
      "source": [
        ""
      ],
      "metadata": {
        "id": "aEw_8YZbpHa_"
      },
      "execution_count": null,
      "outputs": []
    },
    {
      "cell_type": "markdown",
      "source": [
        "jak to nacpat do dashplotu?"
      ],
      "metadata": {
        "id": "pKe4mg5JnsCR"
      }
    },
    {
      "cell_type": "code",
      "source": [
        "Lines[42:63] #jednoduse ... ale jak je pak narvu do dataframu ?"
      ],
      "metadata": {
        "id": "oCkK3tconTt7",
        "colab": {
          "base_uri": "https://localhost:8080/"
        },
        "outputId": "6a988fc0-3faa-4063-cb75-083ea70bf001"
      },
      "execution_count": null,
      "outputs": [
        {
          "output_type": "execute_result",
          "data": {
            "text/plain": [
              "['*Element, type=CPS4R\\n',\n",
              " ' 1,  1,  2, 13, 12\\n',\n",
              " ' 2,  2,  3, 14, 13\\n',\n",
              " ' 3,  3,  4, 15, 14\\n',\n",
              " ' 4,  4,  5, 16, 15\\n',\n",
              " ' 5,  5,  6, 17, 16\\n',\n",
              " ' 6,  6,  7, 18, 17\\n',\n",
              " ' 7,  7,  8, 19, 18\\n',\n",
              " ' 8,  8,  9, 20, 19\\n',\n",
              " ' 9,  9, 10, 21, 20\\n',\n",
              " '10, 10, 11, 22, 21\\n',\n",
              " '11, 12, 13, 24, 23\\n',\n",
              " '12, 13, 14, 25, 24\\n',\n",
              " '13, 14, 15, 26, 25\\n',\n",
              " '14, 15, 16, 27, 26\\n',\n",
              " '15, 16, 17, 28, 27\\n',\n",
              " '16, 17, 18, 29, 28\\n',\n",
              " '17, 18, 19, 30, 29\\n',\n",
              " '18, 19, 20, 31, 30\\n',\n",
              " '19, 20, 21, 32, 31\\n',\n",
              " '20, 21, 22, 33, 32\\n']"
            ]
          },
          "metadata": {},
          "execution_count": 30
        }
      ]
    },
    {
      "cell_type": "code",
      "source": [
        "element_lines = Lines[42:63]"
      ],
      "metadata": {
        "id": "R3WjWwkPOFrs"
      },
      "execution_count": null,
      "outputs": []
    },
    {
      "cell_type": "code",
      "source": [
        "# tady bude potreba nejak vytahnout typ elementu , to bude totiz vstupovat do dalsi methody / metod \n",
        "elementTypeLine = element_lines[0].split('type=')\n",
        "elementType = elementTypeLine[-1]\n",
        "print(elementType)"
      ],
      "metadata": {
        "id": "uky8x32IOBBv",
        "colab": {
          "base_uri": "https://localhost:8080/"
        },
        "outputId": "8131ab0f-2b3e-4127-9511-a0e9515c48d6"
      },
      "execution_count": null,
      "outputs": [
        {
          "output_type": "stream",
          "name": "stdout",
          "text": [
            "CPS4R\n",
            "\n"
          ]
        }
      ]
    },
    {
      "cell_type": "code",
      "source": [
        "# budu to chtit v dict nebo v listu ? jak to na zaver cistit a publikovat CaPB\n",
        "#namesOfElementColumns = \n",
        "df_elements = pd.read_csv(io.StringIO('\\n'.join(element_lines)),\n",
        "                        delim_whitespace=True, \n",
        "                        skiprows=1\n",
        "                       )\n",
        "print(df_elements)"
      ],
      "metadata": {
        "id": "n8MMFGY7L4e0",
        "colab": {
          "base_uri": "https://localhost:8080/"
        },
        "outputId": "bc495289-fa73-40f1-df9f-4bc5c2e97ed3"
      },
      "execution_count": null,
      "outputs": [
        {
          "output_type": "stream",
          "name": "stdout",
          "text": [
            "     1, 1,.1   2,  13,  12\n",
            "0    2,   2,   3,  14,  13\n",
            "1    3,   3,   4,  15,  14\n",
            "2    4,   4,   5,  16,  15\n",
            "3    5,   5,   6,  17,  16\n",
            "4    6,   6,   7,  18,  17\n",
            "5    7,   7,   8,  19,  18\n",
            "6    8,   8,   9,  20,  19\n",
            "7    9,   9,  10,  21,  20\n",
            "8   10,  10,  11,  22,  21\n",
            "9   11,  12,  13,  24,  23\n",
            "10  12,  13,  14,  25,  24\n",
            "11  13,  14,  15,  26,  25\n",
            "12  14,  15,  16,  27,  26\n",
            "13  15,  16,  17,  28,  27\n",
            "14  16,  17,  18,  29,  28\n",
            "15  17,  18,  19,  30,  29\n",
            "16  18,  19,  20,  31,  30\n",
            "17  19,  20,  21,  32,  31\n",
            "18  20,  21,  22,  33,  32\n"
          ]
        }
      ]
    },
    {
      "cell_type": "code",
      "source": [
        "#for key_ in rd.keys(): print(key_)\n",
        "# rd['*Element, type=CPS4R ']\n"
      ],
      "metadata": {
        "id": "NWIVeYCMlBOx"
      },
      "execution_count": null,
      "outputs": []
    },
    {
      "cell_type": "code",
      "source": [
        "# dir(lines2) hledam cisla radku pro matchingove "
      ],
      "metadata": {
        "id": "nKx1yu_kl4_6"
      },
      "execution_count": null,
      "outputs": []
    },
    {
      "cell_type": "markdown",
      "source": [
        "## X Elementi indentifikace\n"
      ],
      "metadata": {
        "id": "XjYwz-e2og1v"
      }
    },
    {
      "cell_type": "markdown",
      "source": [
        "*Nset, nset=Set-BC, instance=Part-1-1, generate\n",
        " : [84, 82]\n",
        "\n",
        " tady bude dulezite predpokladat ze je hodne set BC\n",
        " hlavne potrebuju dostat mereci body pro vstup ... tam kde budou sensori... jak \n",
        "\n"
      ],
      "metadata": {
        "id": "P4IXaYUZO11B"
      }
    },
    {
      "cell_type": "code",
      "source": [
        "#lementi_BC = Lines[84, 82] # tady se musi prohodit cisla ... nejak to zautomatizovat... ! elegantne"
      ],
      "metadata": {
        "id": "jDtV6bPLQk9O"
      },
      "execution_count": null,
      "outputs": []
    },
    {
      "cell_type": "code",
      "source": [
        "#lementi_BC = Lines[82::84] # tenhle pristup nebere posledni  \n",
        "lementi_BC = Lines[82:84] # tady je to spravne\n",
        "for _ in lementi_BC:\n",
        "  print(_)"
      ],
      "metadata": {
        "id": "tyTnWYdvRdQ6",
        "colab": {
          "base_uri": "https://localhost:8080/"
        },
        "outputId": "8f99fe50-78d6-41f6-f48d-90b831eb45c6"
      },
      "execution_count": null,
      "outputs": [
        {
          "output_type": "stream",
          "name": "stdout",
          "text": [
            "*Nset, nset=Set-BC, instance=Part-1-1, generate\n",
            "\n",
            "  1,  23,  11\n",
            "\n"
          ]
        }
      ]
    },
    {
      "cell_type": "markdown",
      "source": [
        "to namirit na augmente reality ? nedela to treba uz ansys \n",
        " ... new century designer handbook ...\n",
        " nerikam , ze to co se dela ted je spatne, jen to ze uz prisel cas na novy level. Grafove to uz tak proste je.\n",
        " Sestavy jsou grafove, nikdy nebudou hezky maticove pro nejake fajn analyzy jako je obraz etc. "
      ],
      "metadata": {
        "id": "ID1FdvAhPxm2"
      }
    },
    {
      "cell_type": "code",
      "source": [
        "df_BC = pd.read_csv(io.StringIO('\\n'.join(lementi_BC)),\n",
        "                        delim_whitespace=True, \n",
        "                        skiprows=1\n",
        "                       )\n",
        "print(df_BC)"
      ],
      "metadata": {
        "id": "vBTiWfasOmKy",
        "colab": {
          "base_uri": "https://localhost:8080/"
        },
        "outputId": "dca66460-dbc7-4d2f-af6c-64cecd607dc0"
      },
      "execution_count": null,
      "outputs": [
        {
          "output_type": "stream",
          "name": "stdout",
          "text": [
            "Empty DataFrame\n",
            "Columns: [1,, 23,, 11]\n",
            "Index: []\n"
          ]
        }
      ]
    },
    {
      "cell_type": "markdown",
      "source": [
        "tohle je asi silovy lement pro mereni, mel bych kouknout na aktualni beam \\\\\n",
        "*Nset, nset=Set-2, instance=Part-1-1\n",
        " : [82, 80]"
      ],
      "metadata": {
        "id": "_Ck_5MiITEwD"
      }
    },
    {
      "cell_type": "code",
      "source": [
        "lementi_SET2 = Lines[80:82] # tady je to spravne\n",
        "df_SET2 = pd.read_csv(io.StringIO('\\n'.join(lementi_SET2)),\n",
        "                        delim_whitespace=True, \n",
        "                        skiprows=1\n",
        "                       )\n",
        "print(df_SET2)"
      ],
      "metadata": {
        "id": "ebgYXTsUS5fq",
        "colab": {
          "base_uri": "https://localhost:8080/"
        },
        "outputId": "b3f51097-186f-4c36-fc2e-86cce48bdbbb"
      },
      "execution_count": null,
      "outputs": [
        {
          "output_type": "stream",
          "name": "stdout",
          "text": [
            "Empty DataFrame\n",
            "Columns: [33,]\n",
            "Index: []\n"
          ]
        }
      ]
    },
    {
      "cell_type": "markdown",
      "source": [
        "Jak to vsechno visualizovat ???"
      ],
      "metadata": {
        "id": "krSvqjTcSyEA"
      }
    },
    {
      "cell_type": "markdown",
      "source": [
        "# Pikling load vysledku "
      ],
      "metadata": {
        "id": "ofGO51SvmLp9"
      }
    },
    {
      "cell_type": "code",
      "metadata": {
        "id": "HaLXvltgD1EF",
        "colab": {
          "base_uri": "https://localhost:8080/"
        },
        "outputId": "775fb147-385c-438c-dd28-0631362c172c"
      },
      "source": [
        "!pip3 install pickle5\n",
        "import pickle5 as pickle"
      ],
      "execution_count": null,
      "outputs": [
        {
          "output_type": "stream",
          "name": "stdout",
          "text": [
            "Collecting pickle5\n",
            "  Downloading pickle5-0.0.12-cp37-cp37m-manylinux_2_5_x86_64.manylinux1_x86_64.whl (256 kB)\n",
            "\u001b[?25l\r\u001b[K     |█▎                              | 10 kB 19.0 MB/s eta 0:00:01\r\u001b[K     |██▋                             | 20 kB 14.4 MB/s eta 0:00:01\r\u001b[K     |███▉                            | 30 kB 9.7 MB/s eta 0:00:01\r\u001b[K     |█████▏                          | 40 kB 8.8 MB/s eta 0:00:01\r\u001b[K     |██████▍                         | 51 kB 6.5 MB/s eta 0:00:01\r\u001b[K     |███████▊                        | 61 kB 7.6 MB/s eta 0:00:01\r\u001b[K     |█████████                       | 71 kB 7.7 MB/s eta 0:00:01\r\u001b[K     |██████████▎                     | 81 kB 6.8 MB/s eta 0:00:01\r\u001b[K     |███████████▌                    | 92 kB 7.5 MB/s eta 0:00:01\r\u001b[K     |████████████▉                   | 102 kB 7.3 MB/s eta 0:00:01\r\u001b[K     |██████████████                  | 112 kB 7.3 MB/s eta 0:00:01\r\u001b[K     |███████████████▍                | 122 kB 7.3 MB/s eta 0:00:01\r\u001b[K     |████████████████▋               | 133 kB 7.3 MB/s eta 0:00:01\r\u001b[K     |██████████████████              | 143 kB 7.3 MB/s eta 0:00:01\r\u001b[K     |███████████████████▏            | 153 kB 7.3 MB/s eta 0:00:01\r\u001b[K     |████████████████████▌           | 163 kB 7.3 MB/s eta 0:00:01\r\u001b[K     |█████████████████████▊          | 174 kB 7.3 MB/s eta 0:00:01\r\u001b[K     |███████████████████████         | 184 kB 7.3 MB/s eta 0:00:01\r\u001b[K     |████████████████████████▎       | 194 kB 7.3 MB/s eta 0:00:01\r\u001b[K     |█████████████████████████▋      | 204 kB 7.3 MB/s eta 0:00:01\r\u001b[K     |██████████████████████████▉     | 215 kB 7.3 MB/s eta 0:00:01\r\u001b[K     |████████████████████████████▏   | 225 kB 7.3 MB/s eta 0:00:01\r\u001b[K     |█████████████████████████████▍  | 235 kB 7.3 MB/s eta 0:00:01\r\u001b[K     |██████████████████████████████▊ | 245 kB 7.3 MB/s eta 0:00:01\r\u001b[K     |████████████████████████████████| 256 kB 7.3 MB/s eta 0:00:01\r\u001b[K     |████████████████████████████████| 256 kB 7.3 MB/s \n",
            "\u001b[?25hInstalling collected packages: pickle5\n",
            "Successfully installed pickle5-0.0.12\n"
          ]
        }
      ]
    },
    {
      "cell_type": "markdown",
      "source": [
        "Naloudovani framu z vysledku\n",
        "* pro kazdy nod\n",
        "* U.mag, U.U1, U.U2, s.MISES, S.MAXP"
      ],
      "metadata": {
        "id": "93DNL6OJja_e"
      }
    },
    {
      "cell_type": "code",
      "metadata": {
        "id": "lrHnHnigQEm2"
      },
      "source": [
        "D_path = \"/content/beam_pickled_data.pkl\"\n",
        "with open(D_path, \"rb\") as input_file:\n",
        "       fms = pickle.load(input_file) #"
      ],
      "execution_count": null,
      "outputs": []
    },
    {
      "cell_type": "markdown",
      "source": [
        "### data see from R ... RPTs "
      ],
      "metadata": {
        "id": "I1v-gDVPNVdN"
      }
    },
    {
      "cell_type": "code",
      "metadata": {
        "id": "pl9RwEbIXsda"
      },
      "source": [
        "# co je celkove v datasetu\n",
        "# print(fms)"
      ],
      "execution_count": null,
      "outputs": []
    },
    {
      "cell_type": "markdown",
      "metadata": {
        "id": "yOMgAmvCX0em"
      },
      "source": [
        "# priprava datasetu\n",
        "predpoklad ze setBC uchovava X a vse ostatni je Y\n",
        "\n",
        "\n",
        "[ltx bb](https://tex.stackexchange.com/questions/505648/how-to-write-this-symbol-vee-with-double-line-left)\n",
        "\\\n",
        "[ltx bb2](https://tex.stackexchange.com/questions/439222/how-to-make-double-struck-capital-letters-italic-e-g-u1d53c)"
      ]
    },
    {
      "cell_type": "markdown",
      "source": [
        ""
      ],
      "metadata": {
        "id": "BET2sqiUXpmG"
      }
    },
    {
      "cell_type": "code",
      "metadata": {
        "id": "s1H90C6lYJow"
      },
      "source": [
        "# framy z datasetu \n",
        "# for _ in fms.keys(): print(_)"
      ],
      "execution_count": null,
      "outputs": []
    },
    {
      "cell_type": "code",
      "metadata": {
        "id": "EliNADvtY9VZ"
      },
      "source": [
        ""
      ],
      "execution_count": null,
      "outputs": []
    },
    {
      "cell_type": "markdown",
      "metadata": {
        "id": "Ahnyg4w9ZCf-"
      },
      "source": [
        "## X prep\n",
        "Co je vstupem ... data ze senzoru\n",
        "sensorem muze by strain gauge, tj merit pretvoreni nebo zrychleni, ci dokonce kombinace. to se pak samozrejme musi skalovat nejakou metodou . \n",
        "Set v inp se nejak jmenuje\n",
        "\n",
        "*Nset, nset=Set-2, instance=Part-1-1\n",
        " : [82, 80]\n",
        "\n",
        " staci tak malo vstupu ? \\\\\n",
        " kolik je akorat ? \\\\\n",
        " toto je dobra otazka na clanek ...\\\\\n",
        " neighbourhooding \\\\\n",
        " co kdyz bude fakt potreba hodne senzoru, ale ne vsude bude mozne je implemnetovat?"
      ]
    },
    {
      "cell_type": "code",
      "source": [
        "# print(G)"
      ],
      "metadata": {
        "id": "6Lqc-OhyObse"
      },
      "execution_count": null,
      "outputs": []
    },
    {
      "cell_type": "markdown",
      "metadata": {
        "id": "mW63eLeqZTTI"
      },
      "source": [
        "## y prep \n",
        "Woo ostatni nody mimo X\n",
        "$y$"
      ]
    },
    {
      "cell_type": "code",
      "metadata": {
        "id": "YCDd476kZNCH"
      },
      "source": [
        "jelikoz zrejme ze zacatku mirim na node classification \n",
        "a pak az na link prediction smis vahy pro algoritmus ... \n"
      ],
      "execution_count": null,
      "outputs": []
    },
    {
      "cell_type": "markdown",
      "source": [
        "# Nová sekce"
      ],
      "metadata": {
        "id": "LvYxBhfF2neC"
      }
    },
    {
      "cell_type": "markdown",
      "metadata": {
        "id": "TmPA_BNjX1WJ"
      },
      "source": [
        "# vizualizace pres vtk \n",
        "\n",
        "pouze test jak instalovat vtk v colabu.\n",
        "Funguje spravne, priklad neni vytvoreny"
      ]
    },
    {
      "cell_type": "code",
      "metadata": {
        "id": "CBdn728kY5t6"
      },
      "source": [
        "#!pip3 install vtk"
      ],
      "execution_count": null,
      "outputs": []
    },
    {
      "cell_type": "markdown",
      "metadata": {
        "id": "A959JmQPYeTq"
      },
      "source": [
        "# test pymapdl"
      ]
    },
    {
      "cell_type": "code",
      "metadata": {
        "id": "5qXPiW9eYkcQ"
      },
      "source": [
        "#!pip3 install pymapdl"
      ],
      "execution_count": null,
      "outputs": []
    },
    {
      "cell_type": "markdown",
      "source": [
        "# Load Graph pres torch\n",
        "z githubu \n",
        "torch format\n",
        "https://towardsdatascience.com/7-ways-to-load-external-data-into-google-colab-7ba73e7d5fc7\n"
      ],
      "metadata": {
        "id": "qGP_DIRCPEq4"
      }
    },
    {
      "cell_type": "markdown",
      "source": [
        ""
      ],
      "metadata": {
        "id": "61aCCfFJ3JhW"
      }
    },
    {
      "cell_type": "code",
      "source": [
        "!wget https://github.com/KokBob/GFdataset/upload/main/beam2D.bin\n",
        "!wget https://github.com/KokBob/GFdataset/upload/main/beam2D.g"
      ],
      "metadata": {
        "id": "mCmUsJZxPsf3",
        "colab": {
          "base_uri": "https://localhost:8080/"
        },
        "outputId": "a6ccd398-3ede-47f4-f719-8f5893fa3f81"
      },
      "execution_count": null,
      "outputs": [
        {
          "output_type": "stream",
          "name": "stdout",
          "text": [
            "--2022-04-25 05:20:43--  https://github.com/KokBob/GFdataset/upload/main/beam2D.bin\n",
            "Resolving github.com (github.com)... 192.30.255.113\n",
            "Connecting to github.com (github.com)|192.30.255.113|:443... connected.\n",
            "HTTP request sent, awaiting response... 200 OK\n",
            "Length: unspecified [text/html]\n",
            "Saving to: ‘beam2D.bin’\n",
            "\n",
            "beam2D.bin              [ <=>                ]  85.29K  --.-KB/s    in 0.02s   \n",
            "\n",
            "2022-04-25 05:20:43 (5.36 MB/s) - ‘beam2D.bin’ saved [87335]\n",
            "\n",
            "--2022-04-25 05:20:43--  https://github.com/KokBob/GFdataset/upload/main/beam2D.g\n",
            "Resolving github.com (github.com)... 192.30.255.112\n",
            "Connecting to github.com (github.com)|192.30.255.112|:443... connected.\n",
            "HTTP request sent, awaiting response... 200 OK\n",
            "Length: unspecified [text/html]\n",
            "Saving to: ‘beam2D.g’\n",
            "\n",
            "beam2D.g                [ <=>                ]  85.22K  --.-KB/s    in 0.01s   \n",
            "\n",
            "2022-04-25 05:20:43 (5.56 MB/s) - ‘beam2D.g’ saved [87261]\n",
            "\n"
          ]
        }
      ]
    },
    {
      "cell_type": "markdown",
      "source": [
        ""
      ],
      "metadata": {
        "id": "AtOQCBhBQ8ep"
      }
    },
    {
      "cell_type": "code",
      "source": [
        "!pip3 install dgl"
      ],
      "metadata": {
        "id": "ri5V266tRytR",
        "outputId": "dfa7a1c0-0335-4142-df6d-9d17bc2bdb2e",
        "colab": {
          "base_uri": "https://localhost:8080/"
        }
      },
      "execution_count": null,
      "outputs": [
        {
          "output_type": "stream",
          "name": "stdout",
          "text": [
            "Collecting dgl\n",
            "  Downloading dgl-0.6.1-cp37-cp37m-manylinux1_x86_64.whl (4.4 MB)\n",
            "\u001b[K     |████████████████████████████████| 4.4 MB 7.0 MB/s \n",
            "\u001b[?25hRequirement already satisfied: scipy>=1.1.0 in /usr/local/lib/python3.7/dist-packages (from dgl) (1.4.1)\n",
            "Requirement already satisfied: requests>=2.19.0 in /usr/local/lib/python3.7/dist-packages (from dgl) (2.23.0)\n",
            "Requirement already satisfied: numpy>=1.14.0 in /usr/local/lib/python3.7/dist-packages (from dgl) (1.21.6)\n",
            "Requirement already satisfied: networkx>=2.1 in /usr/local/lib/python3.7/dist-packages (from dgl) (2.6.3)\n",
            "Requirement already satisfied: certifi>=2017.4.17 in /usr/local/lib/python3.7/dist-packages (from requests>=2.19.0->dgl) (2021.10.8)\n",
            "Requirement already satisfied: urllib3!=1.25.0,!=1.25.1,<1.26,>=1.21.1 in /usr/local/lib/python3.7/dist-packages (from requests>=2.19.0->dgl) (1.24.3)\n",
            "Requirement already satisfied: chardet<4,>=3.0.2 in /usr/local/lib/python3.7/dist-packages (from requests>=2.19.0->dgl) (3.0.4)\n",
            "Requirement already satisfied: idna<3,>=2.5 in /usr/local/lib/python3.7/dist-packages (from requests>=2.19.0->dgl) (2.10)\n",
            "Installing collected packages: dgl\n",
            "Successfully installed dgl-0.6.1\n"
          ]
        }
      ]
    },
    {
      "cell_type": "code",
      "source": [
        "import torch as th\n",
        "G_torch = th.load(\"./beam2D_torch.bin\")"
      ],
      "metadata": {
        "id": "CLrXQiHoQgi4",
        "outputId": "9dbc1bd4-8631-4494-a33c-bedfbed83d45",
        "colab": {
          "base_uri": "https://localhost:8080/"
        }
      },
      "execution_count": null,
      "outputs": [
        {
          "output_type": "stream",
          "name": "stderr",
          "text": [
            "DGL backend not selected or invalid.  Assuming PyTorch for now.\n",
            "Using backend: pytorch\n"
          ]
        },
        {
          "output_type": "stream",
          "name": "stdout",
          "text": [
            "Setting the default backend to \"pytorch\". You can change it in the ~/.dgl/config.json file or export the DGLBACKEND environment variable.  Valid options are: pytorch, mxnet, tensorflow (all lowercase)\n"
          ]
        }
      ]
    },
    {
      "cell_type": "markdown",
      "source": [
        "# Cteni grafu pres DGL"
      ],
      "metadata": {
        "id": "SWovYi74PDF2"
      }
    },
    {
      "cell_type": "code",
      "source": [
        "from dgl.data.utils import save_graphs\n",
        "import torch as th\n",
        "from dgl.data.utils import load_graphs\n",
        "import dgl"
      ],
      "metadata": {
        "id": "tX4uR496RA5p"
      },
      "execution_count": null,
      "outputs": []
    },
    {
      "cell_type": "code",
      "source": [
        "#G = dgl.load_graphs(\"./beam2D.bin\", ) # tohle tady nefunguje"
      ],
      "metadata": {
        "id": "jb8hWWb0Ru94"
      },
      "execution_count": null,
      "outputs": []
    },
    {
      "cell_type": "code",
      "source": [
        "G_torch = th.load(\"./beam2D_torch.bin\")\n",
        "# GL = dgl.load_graphs(\"./beam2D.g\")\n",
        "# G_DGL = dgl.load_graphs(\"./beam2D.bin\")"
      ],
      "metadata": {
        "id": "qRKMluI4M9wj"
      },
      "execution_count": null,
      "outputs": []
    },
    {
      "cell_type": "code",
      "source": [
        "for _ in dir(G_torch):print(_)\n"
      ],
      "metadata": {
        "colab": {
          "base_uri": "https://localhost:8080/"
        },
        "id": "n4Ckmwd8agdO",
        "outputId": "05a642ea-390a-4cc4-9b86-64cf6813e768"
      },
      "execution_count": null,
      "outputs": [
        {
          "output_type": "stream",
          "name": "stdout",
          "text": [
            "__class__\n",
            "__contains__\n",
            "__copy__\n",
            "__delattr__\n",
            "__dict__\n",
            "__dir__\n",
            "__doc__\n",
            "__eq__\n",
            "__format__\n",
            "__ge__\n",
            "__getattribute__\n",
            "__getitem__\n",
            "__gt__\n",
            "__hash__\n",
            "__init__\n",
            "__init_subclass__\n",
            "__le__\n",
            "__len__\n",
            "__lt__\n",
            "__module__\n",
            "__ne__\n",
            "__new__\n",
            "__reduce__\n",
            "__reduce_ex__\n",
            "__repr__\n",
            "__setattr__\n",
            "__setstate__\n",
            "__sizeof__\n",
            "__str__\n",
            "__subclasshook__\n",
            "__weakref__\n",
            "_batch_num_edges\n",
            "_batch_num_nodes\n",
            "_canonical_etypes\n",
            "_dsttypes_invmap\n",
            "_edge_frames\n",
            "_etype2canonical\n",
            "_etypes\n",
            "_etypes_invmap\n",
            "_find_etypes\n",
            "_get_e_repr\n",
            "_get_n_repr\n",
            "_graph\n",
            "_idtype_str\n",
            "_init\n",
            "_is_unibipartite\n",
            "_node_frames\n",
            "_ntypes\n",
            "_pop_e_repr\n",
            "_pop_n_repr\n",
            "_reset_cached_info\n",
            "_set_e_repr\n",
            "_set_n_repr\n",
            "_srctypes_invmap\n",
            "add_edge\n",
            "add_edges\n",
            "add_nodes\n",
            "add_self_loop\n",
            "adj\n",
            "adjacency_matrix\n",
            "adjacency_matrix_scipy\n",
            "all_edges\n",
            "apply_edges\n",
            "apply_nodes\n",
            "astype\n",
            "batch_num_edges\n",
            "batch_num_nodes\n",
            "batch_size\n",
            "canonical_etypes\n",
            "clone\n",
            "cpu\n",
            "create_formats_\n",
            "device\n",
            "dstdata\n",
            "dstnodes\n",
            "dsttypes\n",
            "edata\n",
            "edge_attr_schemes\n",
            "edge_id\n",
            "edge_ids\n",
            "edge_subgraph\n",
            "edge_type_subgraph\n",
            "edges\n",
            "etypes\n",
            "filter_edges\n",
            "filter_nodes\n",
            "find_edges\n",
            "formats\n",
            "from_networkx\n",
            "from_scipy_sparse_matrix\n",
            "get_etype_id\n",
            "get_ntype_id\n",
            "get_ntype_id_from_dst\n",
            "get_ntype_id_from_src\n",
            "group_apply_edges\n",
            "has_edge_between\n",
            "has_edges_between\n",
            "has_node\n",
            "has_nodes\n",
            "idtype\n",
            "in_degree\n",
            "in_degrees\n",
            "in_edges\n",
            "in_subgraph\n",
            "inc\n",
            "incidence_matrix\n",
            "int\n",
            "is_block\n",
            "is_homogeneous\n",
            "is_multigraph\n",
            "is_readonly\n",
            "is_unibipartite\n",
            "line_graph\n",
            "local_scope\n",
            "local_var\n",
            "long\n",
            "metagraph\n",
            "multi_pull\n",
            "multi_recv\n",
            "multi_send_and_recv\n",
            "multi_update_all\n",
            "ndata\n",
            "node_attr_schemes\n",
            "node_type_subgraph\n",
            "nodes\n",
            "ntypes\n",
            "num_dst_nodes\n",
            "num_edges\n",
            "num_nodes\n",
            "num_src_nodes\n",
            "number_of_dst_nodes\n",
            "number_of_edges\n",
            "number_of_nodes\n",
            "number_of_src_nodes\n",
            "out_degree\n",
            "out_degrees\n",
            "out_edges\n",
            "out_subgraph\n",
            "predecessors\n",
            "prop_edges\n",
            "prop_nodes\n",
            "pull\n",
            "push\n",
            "readonly\n",
            "recv\n",
            "register_apply_edge_func\n",
            "register_apply_node_func\n",
            "register_message_func\n",
            "register_reduce_func\n",
            "remove_edges\n",
            "remove_nodes\n",
            "remove_self_loop\n",
            "reverse\n",
            "send\n",
            "send_and_recv\n",
            "set_batch_num_edges\n",
            "set_batch_num_nodes\n",
            "set_e_initializer\n",
            "set_n_initializer\n",
            "shared_memory\n",
            "srcdata\n",
            "srcnodes\n",
            "srctypes\n",
            "subgraph\n",
            "successors\n",
            "to\n",
            "to_canonical_etype\n",
            "to_networkx\n",
            "to_simple\n",
            "update_all\n"
          ]
        }
      ]
    },
    {
      "cell_type": "code",
      "source": [
        "G = G_torch \n",
        "G_nds = G.nodes\n"
      ],
      "metadata": {
        "id": "kDSUnJ1gkxlc"
      },
      "execution_count": null,
      "outputs": []
    },
    {
      "cell_type": "code",
      "source": [
        "#print(G.ndata) # ok"
      ],
      "metadata": {
        "id": "Xxn4lI6Kk80u"
      },
      "execution_count": null,
      "outputs": []
    },
    {
      "cell_type": "code",
      "source": [
        "print(G._graph) # ok"
      ],
      "metadata": {
        "colab": {
          "base_uri": "https://localhost:8080/"
        },
        "id": "prtOBuxgldNA",
        "outputId": "a6802e39-f71b-4d4e-84bc-9550de43bb0d"
      },
      "execution_count": null,
      "outputs": [
        {
          "output_type": "stream",
          "name": "stdout",
          "text": [
            "<dgl.heterograph_index.HeteroGraphIndex object at 0x7f23d4b70e10>\n"
          ]
        }
      ]
    },
    {
      "cell_type": "code",
      "source": [
        "Gnx = G.to_networkx()"
      ],
      "metadata": {
        "id": "E0yn9iw3lshY"
      },
      "execution_count": null,
      "outputs": []
    },
    {
      "cell_type": "code",
      "source": [
        "nx.draw(Gnx)"
      ],
      "metadata": {
        "colab": {
          "base_uri": "https://localhost:8080/"
        },
        "id": "9ljvPZ0nl2Lk",
        "outputId": "b4ceb4cd-7c72-412d-f398-d13d3b638dd5"
      },
      "execution_count": null,
      "outputs": [
        {
          "output_type": "display_data",
          "data": {
            "text/plain": [
              "<Figure size 432x288 with 1 Axes>"
            ],
            "image/png": "[encoded data removed]"
          },
          "metadata": {}
        }
      ]
    },
    {
      "cell_type": "markdown",
      "source": [
        "# Dalsi myslenky\n",
        "zacit implementovat a porovnavat ... [Good-bye Pandas! Meet Terality — Its Evil Twin With Identical Syntax](https://medium.com/towards-data-science/good-bye-pandas-meet-terality-its-evil-twin-with-identical-syntax-455b42f33a6d)\n",
        "\n",
        "**tensoboard a pytorch ** \n",
        "jako zajimavy pristup\n",
        "\\\n",
        "https://medium.com/looka-engineering/how-to-use-tensorboard-with-pytorch-in-google-colab-1f76a938bc34\n",
        "\\\n",
        "https://neptune.ai/blog/tensorboard-tutorial\n",
        "\n",
        "\\\n",
        "spliting pres knihovnu ogb\n",
        "https://ogb.stanford.edu/docs/nodeprop/?msclkid=49a64c11ba2011ec84a4b7ec87cac64d#ogbn-arxiv\n",
        "\\\\\n",
        "\n",
        "https://docs.dgl.ai/tutorials/multi/2_node_classification.html?msclkid=e8736f10ba1e11ec8d8cfc33b4e31bc1\n",
        "\n",
        " \\\\\n",
        "\n",
        " https://towardsdatascience.com/karate-club-a-python-library-for-graph-representation-learning-e70857112476\n",
        "\n",
        " \\\\\n",
        " https://distill.pub/2021/gnn-intro/?msclkid=04f4ff18ba5d11ecaf9508daec32994d\n",
        " \\\\"
      ],
      "metadata": {
        "id": "j4BqYll6Lrq8"
      }
    }
  ]
}
